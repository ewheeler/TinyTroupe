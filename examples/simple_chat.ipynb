{
 "cells": [
  {
   "cell_type": "markdown",
   "metadata": {},
   "source": [
    "# Simple Chat\n",
    "\n",
    "A simple demonstration of two agents talking to each other."
   ]
  },
  {
   "cell_type": "code",
   "execution_count": 1,
   "metadata": {},
   "outputs": [
    {
     "name": "stdout",
     "output_type": "stream",
     "text": [
      "\n",
      "!!!!\n",
      "DISCLAIMER: TinyTroupe relies on Artificial Intelligence (AI) models to generate content. \n",
      "The AI models are not perfect and may produce inappropriate or inacurate results. \n",
      "For any serious or consequential use, please review the generated content before using it.\n",
      "!!!!\n",
      "\n",
      "Looking for default config on: c:\\Users\\pdasilva\\OneDrive - Microsoft\\Git repositories\\tinytroupe-opensource\\TinyTroupe\\examples\\..\\tinytroupe\\config.ini\n",
      "Found custom config on: c:\\Users\\pdasilva\\OneDrive - Microsoft\\Git repositories\\tinytroupe-opensource\\TinyTroupe\\examples\\config.ini\n",
      "\n",
      "=================================\n",
      "Current TinyTroupe configuration \n",
      "=================================\n",
      "[OpenAI]\n",
      "api_type = openai\n",
      "azure_api_version = 2023-05-15\n",
      "model = gpt-4o-mini\n",
      "max_tokens = 4000\n",
      "temperature = 1.0\n",
      "freq_penalty = 0.3\n",
      "presence_penalty = 0.0\n",
      "timeout = 60\n",
      "max_attempts = 5\n",
      "waiting_time = 0\n",
      "exponential_backoff_factor = 5\n",
      "embedding_model = text-embedding-3-small\n",
      "cache_api_calls = False\n",
      "cache_file_name = openai_api_cache.pickle\n",
      "max_content_display_length = 1024\n",
      "\n",
      "[Simulation]\n",
      "rai_harmful_content_prevention = True\n",
      "rai_copyright_infringement_prevention = True\n",
      "\n",
      "[Logging]\n",
      "loglevel = ERROR\n",
      "\n"
     ]
    }
   ],
   "source": [
    "import json\n",
    "import sys\n",
    "sys.path.append('..')\n",
    "\n",
    "import tinytroupe\n",
    "from tinytroupe.agent import TinyPerson\n",
    "from tinytroupe.environment import TinyWorld, TinySocialNetwork\n",
    "from tinytroupe.examples import *"
   ]
  },
  {
   "cell_type": "code",
   "execution_count": 2,
   "metadata": {},
   "outputs": [],
   "source": [
    "lisa = create_lisa_the_data_scientist()\n",
    "oscar = create_oscar_the_architect()"
   ]
  },
  {
   "cell_type": "code",
   "execution_count": 3,
   "metadata": {},
   "outputs": [],
   "source": [
    "world = TinyWorld(\"Chat Room\", [lisa, oscar])\n",
    "world.make_everyone_accessible()"
   ]
  },
  {
   "cell_type": "code",
   "execution_count": 4,
   "metadata": {},
   "outputs": [
    {
     "data": {
      "text/html": [
       "<pre style=\"margin:0px;;white-space:pre;overflow-x:auto;line-height:normal;font-family:Menlo,'DejaVu Sans Mono',consolas,'Courier New',monospace\"><span style=\"color: #00ffff; text-decoration-color: #00ffff; font-weight: bold; font-style: italic; text-decoration: underline\">USER</span><span style=\"color: #00ffff; text-decoration-color: #00ffff; font-weight: bold; font-style: italic\"> --&gt; </span><span style=\"color: #00ffff; text-decoration-color: #00ffff; font-weight: bold; font-style: italic; text-decoration: underline\">Lisa</span><span style=\"color: #00ffff; text-decoration-color: #00ffff; font-weight: bold; font-style: italic\">: [CONVERSATION] </span>\n",
       "<span style=\"color: #00ffff; text-decoration-color: #00ffff; font-weight: bold; font-style: italic\">          &gt; Talk to Oscar to know more about him</span>\n",
       "</pre>\n"
      ],
      "text/plain": [
       "\u001b[1;3;4;38;5;51mUSER\u001b[0m\u001b[1;3;38;5;51m --> \u001b[0m\u001b[1;3;4;38;5;51mLisa\u001b[0m\u001b[1;3;38;5;51m: \u001b[0m\u001b[1;3;38;5;51m[\u001b[0m\u001b[1;3;38;5;51mCONVERSATION\u001b[0m\u001b[1;3;38;5;51m]\u001b[0m\u001b[1;3;38;5;51m \u001b[0m\n",
       "\u001b[1;3;38;5;51m          > Talk to Oscar to know more about him\u001b[0m\n"
      ]
     },
     "metadata": {},
     "output_type": "display_data"
    },
    {
     "data": {
      "text/html": [
       "<pre style=\"margin:0px;;white-space:pre;overflow-x:auto;line-height:normal;font-family:Menlo,'DejaVu Sans Mono',consolas,'Courier New',monospace\"><span style=\"color: #00ff00; text-decoration-color: #00ff00\">────────────────────────────────────────────── </span>Chat Room step <span style=\"color: #008080; text-decoration-color: #008080; font-weight: bold\">1</span> of <span style=\"color: #008080; text-decoration-color: #008080; font-weight: bold\">4</span><span style=\"color: #00ff00; text-decoration-color: #00ff00\"> ──────────────────────────────────────────────</span>\n",
       "</pre>\n"
      ],
      "text/plain": [
       "\u001b[92m────────────────────────────────────────────── \u001b[0mChat Room step \u001b[1;36m1\u001b[0m of \u001b[1;36m4\u001b[0m\u001b[92m ──────────────────────────────────────────────\u001b[0m\n"
      ]
     },
     "metadata": {},
     "output_type": "display_data"
    },
    {
     "data": {
      "text/html": [
       "<pre style=\"margin:0px;;white-space:pre;overflow-x:auto;line-height:normal;font-family:Menlo,'DejaVu Sans Mono',consolas,'Courier New',monospace\"><span style=\"color: #af00ff; text-decoration-color: #af00ff; text-decoration: underline\">Lisa</span><span style=\"color: #af00ff; text-decoration-color: #af00ff\"> acts: </span><span style=\"color: #af00ff; text-decoration-color: #af00ff; font-weight: bold\">[</span><span style=\"color: #af00ff; text-decoration-color: #af00ff\">REACH_OUT</span><span style=\"color: #af00ff; text-decoration-color: #af00ff; font-weight: bold\">]</span><span style=\"color: #af00ff; text-decoration-color: #af00ff\"> </span>\n",
       "\n",
       "</pre>\n"
      ],
      "text/plain": [
       "\u001b[4;38;5;129mLisa\u001b[0m\u001b[38;5;129m acts: \u001b[0m\u001b[1;38;5;129m[\u001b[0m\u001b[38;5;129mREACH_OUT\u001b[0m\u001b[1;38;5;129m]\u001b[0m\u001b[38;5;129m \u001b[0m\n",
       "\n"
      ]
     },
     "metadata": {},
     "output_type": "display_data"
    },
    {
     "data": {
      "text/html": [
       "<pre style=\"margin:0px;;white-space:pre;overflow-x:auto;line-height:normal;font-family:Menlo,'DejaVu Sans Mono',consolas,'Courier New',monospace\"><span style=\"color: #00d700; text-decoration-color: #00d700; font-weight: bold; text-decoration: underline\">Lisa</span><span style=\"color: #00d700; text-decoration-color: #00d700; font-weight: bold\"> acts: [TALK] </span>\n",
       "<span style=\"color: #00d700; text-decoration-color: #00d700; font-weight: bold\">          &gt; Hi Oscar! I wanted to know more about you. What do you do?</span>\n",
       "</pre>\n"
      ],
      "text/plain": [
       "\u001b[1;4;38;5;40mLisa\u001b[0m\u001b[1;38;5;40m acts: \u001b[0m\u001b[1;38;5;40m[\u001b[0m\u001b[1;38;5;40mTALK\u001b[0m\u001b[1;38;5;40m]\u001b[0m\u001b[1;38;5;40m \u001b[0m\n",
       "\u001b[1;38;5;40m          > Hi Oscar! I wanted to know more about you. What do you do?\u001b[0m\n"
      ]
     },
     "metadata": {},
     "output_type": "display_data"
    },
    {
     "data": {
      "text/html": [
       "<pre style=\"margin:0px;;white-space:pre;overflow-x:auto;line-height:normal;font-family:Menlo,'DejaVu Sans Mono',consolas,'Courier New',monospace\"><span style=\"color: #d0d0d0; text-decoration-color: #d0d0d0; text-decoration: underline\">Lisa</span><span style=\"color: #d0d0d0; text-decoration-color: #d0d0d0\"> acts: </span><span style=\"color: #d0d0d0; text-decoration-color: #d0d0d0; font-weight: bold\">[</span><span style=\"color: #d0d0d0; text-decoration-color: #d0d0d0\">DONE</span><span style=\"color: #d0d0d0; text-decoration-color: #d0d0d0; font-weight: bold\">]</span><span style=\"color: #d0d0d0; text-decoration-color: #d0d0d0\"> </span>\n",
       "\n",
       "</pre>\n"
      ],
      "text/plain": [
       "\u001b[4;38;5;252mLisa\u001b[0m\u001b[38;5;252m acts: \u001b[0m\u001b[1;38;5;252m[\u001b[0m\u001b[38;5;252mDONE\u001b[0m\u001b[1;38;5;252m]\u001b[0m\u001b[38;5;252m \u001b[0m\n",
       "\n"
      ]
     },
     "metadata": {},
     "output_type": "display_data"
    },
    {
     "data": {
      "text/html": [
       "<pre style=\"margin:0px;;white-space:pre;overflow-x:auto;line-height:normal;font-family:Menlo,'DejaVu Sans Mono',consolas,'Courier New',monospace\"><span style=\"font-style: italic; text-decoration: underline\">Chat Room</span><span style=\"font-style: italic\"> --&gt; </span><span style=\"font-style: italic; text-decoration: underline\">Lisa</span><span style=\"font-style: italic\">: </span><span style=\"font-weight: bold; font-style: italic\">[</span><span style=\"font-style: italic\">SOCIAL</span><span style=\"font-weight: bold; font-style: italic\">]</span><span style=\"font-style: italic\"> </span>\n",
       "<span style=\"font-style: italic\">               &gt; Oscar was successfully reached out, and is now available for interaction.</span>\n",
       "</pre>\n"
      ],
      "text/plain": [
       "\u001b[3;4mChat Room\u001b[0m\u001b[3m --> \u001b[0m\u001b[3;4mLisa\u001b[0m\u001b[3m: \u001b[0m\u001b[1;3m[\u001b[0m\u001b[3mSOCIAL\u001b[0m\u001b[1;3m]\u001b[0m\u001b[3m \u001b[0m\n",
       "\u001b[3m               > Oscar was successfully reached out, and is now available for interaction.\u001b[0m\n"
      ]
     },
     "metadata": {},
     "output_type": "display_data"
    },
    {
     "data": {
      "text/html": [
       "<pre style=\"margin:0px;;white-space:pre;overflow-x:auto;line-height:normal;font-family:Menlo,'DejaVu Sans Mono',consolas,'Courier New',monospace\"><span style=\"font-style: italic; text-decoration: underline\">Chat Room</span><span style=\"font-style: italic\"> --&gt; </span><span style=\"font-style: italic; text-decoration: underline\">Oscar</span><span style=\"font-style: italic\">: </span><span style=\"font-weight: bold; font-style: italic\">[</span><span style=\"font-style: italic\">SOCIAL</span><span style=\"font-weight: bold; font-style: italic\">]</span><span style=\"font-style: italic\"> </span>\n",
       "<span style=\"font-style: italic\">               &gt; Lisa reached out to you, and is now available for interaction.</span>\n",
       "</pre>\n"
      ],
      "text/plain": [
       "\u001b[3;4mChat Room\u001b[0m\u001b[3m --> \u001b[0m\u001b[3;4mOscar\u001b[0m\u001b[3m: \u001b[0m\u001b[1;3m[\u001b[0m\u001b[3mSOCIAL\u001b[0m\u001b[1;3m]\u001b[0m\u001b[3m \u001b[0m\n",
       "\u001b[3m               > Lisa reached out to you, and is now available for interaction.\u001b[0m\n"
      ]
     },
     "metadata": {},
     "output_type": "display_data"
    },
    {
     "data": {
      "text/html": [
       "<pre style=\"margin:0px;;white-space:pre;overflow-x:auto;line-height:normal;font-family:Menlo,'DejaVu Sans Mono',consolas,'Courier New',monospace\"><span style=\"color: #00ffff; text-decoration-color: #00ffff; font-weight: bold; font-style: italic; text-decoration: underline\">Lisa</span><span style=\"color: #00ffff; text-decoration-color: #00ffff; font-weight: bold; font-style: italic\"> --&gt; </span><span style=\"color: #00ffff; text-decoration-color: #00ffff; font-weight: bold; font-style: italic; text-decoration: underline\">Oscar</span><span style=\"color: #00ffff; text-decoration-color: #00ffff; font-weight: bold; font-style: italic\">: [CONVERSATION] </span>\n",
       "<span style=\"color: #00ffff; text-decoration-color: #00ffff; font-weight: bold; font-style: italic\">          &gt; Hi Oscar! I wanted to know more about you. What do you do?</span>\n",
       "</pre>\n"
      ],
      "text/plain": [
       "\u001b[1;3;4;38;5;51mLisa\u001b[0m\u001b[1;3;38;5;51m --> \u001b[0m\u001b[1;3;4;38;5;51mOscar\u001b[0m\u001b[1;3;38;5;51m: \u001b[0m\u001b[1;3;38;5;51m[\u001b[0m\u001b[1;3;38;5;51mCONVERSATION\u001b[0m\u001b[1;3;38;5;51m]\u001b[0m\u001b[1;3;38;5;51m \u001b[0m\n",
       "\u001b[1;3;38;5;51m          > Hi Oscar! I wanted to know more about you. What do you do?\u001b[0m\n"
      ]
     },
     "metadata": {},
     "output_type": "display_data"
    },
    {
     "data": {
      "text/html": [
       "<pre style=\"margin:0px;;white-space:pre;overflow-x:auto;line-height:normal;font-family:Menlo,'DejaVu Sans Mono',consolas,'Courier New',monospace\"><span style=\"color: #008000; text-decoration-color: #008000; text-decoration: underline\">Oscar</span><span style=\"color: #008000; text-decoration-color: #008000\"> acts: </span><span style=\"color: #008000; text-decoration-color: #008000; font-weight: bold\">[</span><span style=\"color: #008000; text-decoration-color: #008000\">THINK</span><span style=\"color: #008000; text-decoration-color: #008000; font-weight: bold\">]</span><span style=\"color: #008000; text-decoration-color: #008000\"> </span>\n",
       "<span style=\"color: #008000; text-decoration-color: #008000\">           &gt; Lisa is interested in learning more about me. I should share my profession and a bit</span>\n",
       "<span style=\"color: #008000; text-decoration-color: #008000\">           &gt; about my interests to give her a better idea of who I am.</span>\n",
       "</pre>\n"
      ],
      "text/plain": [
       "\u001b[4;32mOscar\u001b[0m\u001b[32m acts: \u001b[0m\u001b[1;32m[\u001b[0m\u001b[32mTHINK\u001b[0m\u001b[1;32m]\u001b[0m\u001b[32m \u001b[0m\n",
       "\u001b[32m           > Lisa is interested in learning more about me. I should share my profession and a bit\u001b[0m\n",
       "\u001b[32m           > about my interests to give her a better idea of who I am.\u001b[0m\n"
      ]
     },
     "metadata": {},
     "output_type": "display_data"
    },
    {
     "data": {
      "text/html": [
       "<pre style=\"margin:0px;;white-space:pre;overflow-x:auto;line-height:normal;font-family:Menlo,'DejaVu Sans Mono',consolas,'Courier New',monospace\"><span style=\"color: #00d700; text-decoration-color: #00d700; font-weight: bold; text-decoration: underline\">Oscar</span><span style=\"color: #00d700; text-decoration-color: #00d700; font-weight: bold\"> acts: [TALK] </span>\n",
       "<span style=\"color: #00d700; text-decoration-color: #00d700; font-weight: bold\">           &gt; Hi Lisa! I'm an architect at Awesome Inc. I work on creating standard designs for</span>\n",
       "<span style=\"color: #00d700; text-decoration-color: #00d700; font-weight: bold\">           &gt; apartment buildings, making sure they are functional and aesthetically pleasing. I also</span>\n",
       "<span style=\"color: #00d700; text-decoration-color: #00d700; font-weight: bold\">           &gt; have a keen interest in modernist architecture and sustainable practices. What about</span>\n",
       "<span style=\"color: #00d700; text-decoration-color: #00d700; font-weight: bold\">           &gt; you? What do you do?</span>\n",
       "</pre>\n"
      ],
      "text/plain": [
       "\u001b[1;4;38;5;40mOscar\u001b[0m\u001b[1;38;5;40m acts: \u001b[0m\u001b[1;38;5;40m[\u001b[0m\u001b[1;38;5;40mTALK\u001b[0m\u001b[1;38;5;40m]\u001b[0m\u001b[1;38;5;40m \u001b[0m\n",
       "\u001b[1;38;5;40m           > Hi Lisa! I'm an architect at Awesome Inc. I work on creating standard designs for\u001b[0m\n",
       "\u001b[1;38;5;40m           > apartment buildings, making sure they are functional and aesthetically pleasing. I also\u001b[0m\n",
       "\u001b[1;38;5;40m           > have a keen interest in modernist architecture and sustainable practices. What about\u001b[0m\n",
       "\u001b[1;38;5;40m           > you? What do you do?\u001b[0m\n"
      ]
     },
     "metadata": {},
     "output_type": "display_data"
    },
    {
     "data": {
      "text/html": [
       "<pre style=\"margin:0px;;white-space:pre;overflow-x:auto;line-height:normal;font-family:Menlo,'DejaVu Sans Mono',consolas,'Courier New',monospace\"><span style=\"color: #d0d0d0; text-decoration-color: #d0d0d0; text-decoration: underline\">Oscar</span><span style=\"color: #d0d0d0; text-decoration-color: #d0d0d0\"> acts: </span><span style=\"color: #d0d0d0; text-decoration-color: #d0d0d0; font-weight: bold\">[</span><span style=\"color: #d0d0d0; text-decoration-color: #d0d0d0\">DONE</span><span style=\"color: #d0d0d0; text-decoration-color: #d0d0d0; font-weight: bold\">]</span><span style=\"color: #d0d0d0; text-decoration-color: #d0d0d0\"> </span>\n",
       "\n",
       "</pre>\n"
      ],
      "text/plain": [
       "\u001b[4;38;5;252mOscar\u001b[0m\u001b[38;5;252m acts: \u001b[0m\u001b[1;38;5;252m[\u001b[0m\u001b[38;5;252mDONE\u001b[0m\u001b[1;38;5;252m]\u001b[0m\u001b[38;5;252m \u001b[0m\n",
       "\n"
      ]
     },
     "metadata": {},
     "output_type": "display_data"
    },
    {
     "data": {
      "text/html": [
       "<pre style=\"margin:0px;;white-space:pre;overflow-x:auto;line-height:normal;font-family:Menlo,'DejaVu Sans Mono',consolas,'Courier New',monospace\"><span style=\"color: #00ffff; text-decoration-color: #00ffff; font-weight: bold; font-style: italic; text-decoration: underline\">Oscar</span><span style=\"color: #00ffff; text-decoration-color: #00ffff; font-weight: bold; font-style: italic\"> --&gt; </span><span style=\"color: #00ffff; text-decoration-color: #00ffff; font-weight: bold; font-style: italic; text-decoration: underline\">Lisa</span><span style=\"color: #00ffff; text-decoration-color: #00ffff; font-weight: bold; font-style: italic\">: [CONVERSATION] </span>\n",
       "<span style=\"color: #00ffff; text-decoration-color: #00ffff; font-weight: bold; font-style: italic\">           &gt; Hi Lisa! I'm an architect at Awesome Inc. I work on creating standard designs for</span>\n",
       "<span style=\"color: #00ffff; text-decoration-color: #00ffff; font-weight: bold; font-style: italic\">           &gt; apartment buildings, making sure they are functional and aesthetically pleasing. I also</span>\n",
       "<span style=\"color: #00ffff; text-decoration-color: #00ffff; font-weight: bold; font-style: italic\">           &gt; have a keen interest in modernist architecture and sustainable practices. What about</span>\n",
       "<span style=\"color: #00ffff; text-decoration-color: #00ffff; font-weight: bold; font-style: italic\">           &gt; you? What do you do?</span>\n",
       "</pre>\n"
      ],
      "text/plain": [
       "\u001b[1;3;4;38;5;51mOscar\u001b[0m\u001b[1;3;38;5;51m --> \u001b[0m\u001b[1;3;4;38;5;51mLisa\u001b[0m\u001b[1;3;38;5;51m: \u001b[0m\u001b[1;3;38;5;51m[\u001b[0m\u001b[1;3;38;5;51mCONVERSATION\u001b[0m\u001b[1;3;38;5;51m]\u001b[0m\u001b[1;3;38;5;51m \u001b[0m\n",
       "\u001b[1;3;38;5;51m           > Hi Lisa! I'm an architect at Awesome Inc. I work on creating standard designs for\u001b[0m\n",
       "\u001b[1;3;38;5;51m           > apartment buildings, making sure they are functional and aesthetically pleasing. I also\u001b[0m\n",
       "\u001b[1;3;38;5;51m           > have a keen interest in modernist architecture and sustainable practices. What about\u001b[0m\n",
       "\u001b[1;3;38;5;51m           > you? What do you do?\u001b[0m\n"
      ]
     },
     "metadata": {},
     "output_type": "display_data"
    },
    {
     "data": {
      "text/html": [
       "<pre style=\"margin:0px;;white-space:pre;overflow-x:auto;line-height:normal;font-family:Menlo,'DejaVu Sans Mono',consolas,'Courier New',monospace\"><span style=\"color: #00ff00; text-decoration-color: #00ff00\">────────────────────────────────────────────── </span>Chat Room step <span style=\"color: #008080; text-decoration-color: #008080; font-weight: bold\">2</span> of <span style=\"color: #008080; text-decoration-color: #008080; font-weight: bold\">4</span><span style=\"color: #00ff00; text-decoration-color: #00ff00\"> ──────────────────────────────────────────────</span>\n",
       "</pre>\n"
      ],
      "text/plain": [
       "\u001b[92m────────────────────────────────────────────── \u001b[0mChat Room step \u001b[1;36m2\u001b[0m of \u001b[1;36m4\u001b[0m\u001b[92m ──────────────────────────────────────────────\u001b[0m\n"
      ]
     },
     "metadata": {},
     "output_type": "display_data"
    },
    {
     "data": {
      "text/html": [
       "<pre style=\"margin:0px;;white-space:pre;overflow-x:auto;line-height:normal;font-family:Menlo,'DejaVu Sans Mono',consolas,'Courier New',monospace\"><span style=\"color: #00d700; text-decoration-color: #00d700; font-weight: bold; text-decoration: underline\">Lisa</span><span style=\"color: #00d700; text-decoration-color: #00d700; font-weight: bold\"> acts: [TALK] </span>\n",
       "<span style=\"color: #00d700; text-decoration-color: #00d700; font-weight: bold\">          &gt; That's really interesting, Oscar! I'm a data scientist at Microsoft, working on the M365</span>\n",
       "<span style=\"color: #00d700; text-decoration-color: #00d700; font-weight: bold\">          &gt; Search team. I analyze user behavior and feedback data to improve search results. I also</span>\n",
       "<span style=\"color: #00d700; text-decoration-color: #00d700; font-weight: bold\">          &gt; build machine learning models for various search scenarios. I'm really passionate about</span>\n",
       "<span style=\"color: #00d700; text-decoration-color: #00d700; font-weight: bold\">          &gt; artificial intelligence and user experience. What inspired you to become an architect?</span>\n",
       "</pre>\n"
      ],
      "text/plain": [
       "\u001b[1;4;38;5;40mLisa\u001b[0m\u001b[1;38;5;40m acts: \u001b[0m\u001b[1;38;5;40m[\u001b[0m\u001b[1;38;5;40mTALK\u001b[0m\u001b[1;38;5;40m]\u001b[0m\u001b[1;38;5;40m \u001b[0m\n",
       "\u001b[1;38;5;40m          > That's really interesting, Oscar! I'm a data scientist at Microsoft, working on the M365\u001b[0m\n",
       "\u001b[1;38;5;40m          > Search team. I analyze user behavior and feedback data to improve search results. I also\u001b[0m\n",
       "\u001b[1;38;5;40m          > build machine learning models for various search scenarios. I'm really passionate about\u001b[0m\n",
       "\u001b[1;38;5;40m          > artificial intelligence and user experience. What inspired you to become an architect?\u001b[0m\n"
      ]
     },
     "metadata": {},
     "output_type": "display_data"
    },
    {
     "data": {
      "text/html": [
       "<pre style=\"margin:0px;;white-space:pre;overflow-x:auto;line-height:normal;font-family:Menlo,'DejaVu Sans Mono',consolas,'Courier New',monospace\"><span style=\"color: #d0d0d0; text-decoration-color: #d0d0d0; text-decoration: underline\">Lisa</span><span style=\"color: #d0d0d0; text-decoration-color: #d0d0d0\"> acts: </span><span style=\"color: #d0d0d0; text-decoration-color: #d0d0d0; font-weight: bold\">[</span><span style=\"color: #d0d0d0; text-decoration-color: #d0d0d0\">DONE</span><span style=\"color: #d0d0d0; text-decoration-color: #d0d0d0; font-weight: bold\">]</span><span style=\"color: #d0d0d0; text-decoration-color: #d0d0d0\"> </span>\n",
       "\n",
       "</pre>\n"
      ],
      "text/plain": [
       "\u001b[4;38;5;252mLisa\u001b[0m\u001b[38;5;252m acts: \u001b[0m\u001b[1;38;5;252m[\u001b[0m\u001b[38;5;252mDONE\u001b[0m\u001b[1;38;5;252m]\u001b[0m\u001b[38;5;252m \u001b[0m\n",
       "\n"
      ]
     },
     "metadata": {},
     "output_type": "display_data"
    },
    {
     "data": {
      "text/html": [
       "<pre style=\"margin:0px;;white-space:pre;overflow-x:auto;line-height:normal;font-family:Menlo,'DejaVu Sans Mono',consolas,'Courier New',monospace\"><span style=\"color: #00ffff; text-decoration-color: #00ffff; font-weight: bold; font-style: italic; text-decoration: underline\">Lisa</span><span style=\"color: #00ffff; text-decoration-color: #00ffff; font-weight: bold; font-style: italic\"> --&gt; </span><span style=\"color: #00ffff; text-decoration-color: #00ffff; font-weight: bold; font-style: italic; text-decoration: underline\">Oscar</span><span style=\"color: #00ffff; text-decoration-color: #00ffff; font-weight: bold; font-style: italic\">: [CONVERSATION] </span>\n",
       "<span style=\"color: #00ffff; text-decoration-color: #00ffff; font-weight: bold; font-style: italic\">          &gt; That's really interesting, Oscar! I'm a data scientist at Microsoft, working on the M365</span>\n",
       "<span style=\"color: #00ffff; text-decoration-color: #00ffff; font-weight: bold; font-style: italic\">          &gt; Search team. I analyze user behavior and feedback data to improve search results. I also</span>\n",
       "<span style=\"color: #00ffff; text-decoration-color: #00ffff; font-weight: bold; font-style: italic\">          &gt; build machine learning models for various search scenarios. I'm really passionate about</span>\n",
       "<span style=\"color: #00ffff; text-decoration-color: #00ffff; font-weight: bold; font-style: italic\">          &gt; artificial intelligence and user experience. What inspired you to become an architect?</span>\n",
       "</pre>\n"
      ],
      "text/plain": [
       "\u001b[1;3;4;38;5;51mLisa\u001b[0m\u001b[1;3;38;5;51m --> \u001b[0m\u001b[1;3;4;38;5;51mOscar\u001b[0m\u001b[1;3;38;5;51m: \u001b[0m\u001b[1;3;38;5;51m[\u001b[0m\u001b[1;3;38;5;51mCONVERSATION\u001b[0m\u001b[1;3;38;5;51m]\u001b[0m\u001b[1;3;38;5;51m \u001b[0m\n",
       "\u001b[1;3;38;5;51m          > That's really interesting, Oscar! I'm a data scientist at Microsoft, working on the M365\u001b[0m\n",
       "\u001b[1;3;38;5;51m          > Search team. I analyze user behavior and feedback data to improve search results. I also\u001b[0m\n",
       "\u001b[1;3;38;5;51m          > build machine learning models for various search scenarios. I'm really passionate about\u001b[0m\n",
       "\u001b[1;3;38;5;51m          > artificial intelligence and user experience. What inspired you to become an architect?\u001b[0m\n"
      ]
     },
     "metadata": {},
     "output_type": "display_data"
    },
    {
     "data": {
      "text/html": [
       "<pre style=\"margin:0px;;white-space:pre;overflow-x:auto;line-height:normal;font-family:Menlo,'DejaVu Sans Mono',consolas,'Courier New',monospace\"><span style=\"color: #008000; text-decoration-color: #008000; text-decoration: underline\">Oscar</span><span style=\"color: #008000; text-decoration-color: #008000\"> acts: </span><span style=\"color: #008000; text-decoration-color: #008000; font-weight: bold\">[</span><span style=\"color: #008000; text-decoration-color: #008000\">THINK</span><span style=\"color: #008000; text-decoration-color: #008000; font-weight: bold\">]</span><span style=\"color: #008000; text-decoration-color: #008000\"> </span>\n",
       "<span style=\"color: #008000; text-decoration-color: #008000\">           &gt; Lisa's work as a data scientist sounds fascinating, especially her focus on user</span>\n",
       "<span style=\"color: #008000; text-decoration-color: #008000\">           &gt; experience and AI. I should share what inspired me to become an architect, which is my</span>\n",
       "<span style=\"color: #008000; text-decoration-color: #008000\">           &gt; passion for design and creating functional spaces that enhance people's lives.</span>\n",
       "</pre>\n"
      ],
      "text/plain": [
       "\u001b[4;32mOscar\u001b[0m\u001b[32m acts: \u001b[0m\u001b[1;32m[\u001b[0m\u001b[32mTHINK\u001b[0m\u001b[1;32m]\u001b[0m\u001b[32m \u001b[0m\n",
       "\u001b[32m           > Lisa's work as a data scientist sounds fascinating, especially her focus on user\u001b[0m\n",
       "\u001b[32m           > experience and AI. I should share what inspired me to become an architect, which is my\u001b[0m\n",
       "\u001b[32m           > passion for design and creating functional spaces that enhance people's lives.\u001b[0m\n"
      ]
     },
     "metadata": {},
     "output_type": "display_data"
    },
    {
     "data": {
      "text/html": [
       "<pre style=\"margin:0px;;white-space:pre;overflow-x:auto;line-height:normal;font-family:Menlo,'DejaVu Sans Mono',consolas,'Courier New',monospace\"><span style=\"color: #00d700; text-decoration-color: #00d700; font-weight: bold; text-decoration: underline\">Oscar</span><span style=\"color: #00d700; text-decoration-color: #00d700; font-weight: bold\"> acts: [TALK] </span>\n",
       "<span style=\"color: #00d700; text-decoration-color: #00d700; font-weight: bold\">           &gt; That's great to hear, Lisa! I became an architect because I've always been passionate</span>\n",
       "<span style=\"color: #00d700; text-decoration-color: #00d700; font-weight: bold\">           &gt; about design and creating spaces that improve people's lives. I love the idea of</span>\n",
       "<span style=\"color: #00d700; text-decoration-color: #00d700; font-weight: bold\">           &gt; blending functionality with aesthetics. It’s rewarding to see how architecture can</span>\n",
       "<span style=\"color: #00d700; text-decoration-color: #00d700; font-weight: bold\">           &gt; shape experiences. What do you enjoy most about your work in data science?</span>\n",
       "</pre>\n"
      ],
      "text/plain": [
       "\u001b[1;4;38;5;40mOscar\u001b[0m\u001b[1;38;5;40m acts: \u001b[0m\u001b[1;38;5;40m[\u001b[0m\u001b[1;38;5;40mTALK\u001b[0m\u001b[1;38;5;40m]\u001b[0m\u001b[1;38;5;40m \u001b[0m\n",
       "\u001b[1;38;5;40m           > That's great to hear, Lisa! I became an architect because I've always been passionate\u001b[0m\n",
       "\u001b[1;38;5;40m           > about design and creating spaces that improve people's lives. I love the idea of\u001b[0m\n",
       "\u001b[1;38;5;40m           > blending functionality with aesthetics. It’s rewarding to see how architecture can\u001b[0m\n",
       "\u001b[1;38;5;40m           > shape experiences. What do you enjoy most about your work in data science?\u001b[0m\n"
      ]
     },
     "metadata": {},
     "output_type": "display_data"
    },
    {
     "data": {
      "text/html": [
       "<pre style=\"margin:0px;;white-space:pre;overflow-x:auto;line-height:normal;font-family:Menlo,'DejaVu Sans Mono',consolas,'Courier New',monospace\"><span style=\"color: #d0d0d0; text-decoration-color: #d0d0d0; text-decoration: underline\">Oscar</span><span style=\"color: #d0d0d0; text-decoration-color: #d0d0d0\"> acts: </span><span style=\"color: #d0d0d0; text-decoration-color: #d0d0d0; font-weight: bold\">[</span><span style=\"color: #d0d0d0; text-decoration-color: #d0d0d0\">DONE</span><span style=\"color: #d0d0d0; text-decoration-color: #d0d0d0; font-weight: bold\">]</span><span style=\"color: #d0d0d0; text-decoration-color: #d0d0d0\"> </span>\n",
       "\n",
       "</pre>\n"
      ],
      "text/plain": [
       "\u001b[4;38;5;252mOscar\u001b[0m\u001b[38;5;252m acts: \u001b[0m\u001b[1;38;5;252m[\u001b[0m\u001b[38;5;252mDONE\u001b[0m\u001b[1;38;5;252m]\u001b[0m\u001b[38;5;252m \u001b[0m\n",
       "\n"
      ]
     },
     "metadata": {},
     "output_type": "display_data"
    },
    {
     "data": {
      "text/html": [
       "<pre style=\"margin:0px;;white-space:pre;overflow-x:auto;line-height:normal;font-family:Menlo,'DejaVu Sans Mono',consolas,'Courier New',monospace\"><span style=\"color: #00ffff; text-decoration-color: #00ffff; font-weight: bold; font-style: italic; text-decoration: underline\">Oscar</span><span style=\"color: #00ffff; text-decoration-color: #00ffff; font-weight: bold; font-style: italic\"> --&gt; </span><span style=\"color: #00ffff; text-decoration-color: #00ffff; font-weight: bold; font-style: italic; text-decoration: underline\">Lisa</span><span style=\"color: #00ffff; text-decoration-color: #00ffff; font-weight: bold; font-style: italic\">: [CONVERSATION] </span>\n",
       "<span style=\"color: #00ffff; text-decoration-color: #00ffff; font-weight: bold; font-style: italic\">           &gt; That's great to hear, Lisa! I became an architect because I've always been passionate</span>\n",
       "<span style=\"color: #00ffff; text-decoration-color: #00ffff; font-weight: bold; font-style: italic\">           &gt; about design and creating spaces that improve people's lives. I love the idea of</span>\n",
       "<span style=\"color: #00ffff; text-decoration-color: #00ffff; font-weight: bold; font-style: italic\">           &gt; blending functionality with aesthetics. It’s rewarding to see how architecture can</span>\n",
       "<span style=\"color: #00ffff; text-decoration-color: #00ffff; font-weight: bold; font-style: italic\">           &gt; shape experiences. What do you enjoy most about your work in data science?</span>\n",
       "</pre>\n"
      ],
      "text/plain": [
       "\u001b[1;3;4;38;5;51mOscar\u001b[0m\u001b[1;3;38;5;51m --> \u001b[0m\u001b[1;3;4;38;5;51mLisa\u001b[0m\u001b[1;3;38;5;51m: \u001b[0m\u001b[1;3;38;5;51m[\u001b[0m\u001b[1;3;38;5;51mCONVERSATION\u001b[0m\u001b[1;3;38;5;51m]\u001b[0m\u001b[1;3;38;5;51m \u001b[0m\n",
       "\u001b[1;3;38;5;51m           > That's great to hear, Lisa! I became an architect because I've always been passionate\u001b[0m\n",
       "\u001b[1;3;38;5;51m           > about design and creating spaces that improve people's lives. I love the idea of\u001b[0m\n",
       "\u001b[1;3;38;5;51m           > blending functionality with aesthetics. It’s rewarding to see how architecture can\u001b[0m\n",
       "\u001b[1;3;38;5;51m           > shape experiences. What do you enjoy most about your work in data science?\u001b[0m\n"
      ]
     },
     "metadata": {},
     "output_type": "display_data"
    },
    {
     "data": {
      "text/html": [
       "<pre style=\"margin:0px;;white-space:pre;overflow-x:auto;line-height:normal;font-family:Menlo,'DejaVu Sans Mono',consolas,'Courier New',monospace\"><span style=\"color: #00ff00; text-decoration-color: #00ff00\">────────────────────────────────────────────── </span>Chat Room step <span style=\"color: #008080; text-decoration-color: #008080; font-weight: bold\">3</span> of <span style=\"color: #008080; text-decoration-color: #008080; font-weight: bold\">4</span><span style=\"color: #00ff00; text-decoration-color: #00ff00\"> ──────────────────────────────────────────────</span>\n",
       "</pre>\n"
      ],
      "text/plain": [
       "\u001b[92m────────────────────────────────────────────── \u001b[0mChat Room step \u001b[1;36m3\u001b[0m of \u001b[1;36m4\u001b[0m\u001b[92m ──────────────────────────────────────────────\u001b[0m\n"
      ]
     },
     "metadata": {},
     "output_type": "display_data"
    },
    {
     "data": {
      "text/html": [
       "<pre style=\"margin:0px;;white-space:pre;overflow-x:auto;line-height:normal;font-family:Menlo,'DejaVu Sans Mono',consolas,'Courier New',monospace\"><span style=\"color: #00d700; text-decoration-color: #00d700; font-weight: bold; text-decoration: underline\">Lisa</span><span style=\"color: #00d700; text-decoration-color: #00d700; font-weight: bold\"> acts: [TALK] </span>\n",
       "<span style=\"color: #00d700; text-decoration-color: #00d700; font-weight: bold\">          &gt; I really enjoy the problem-solving aspect of my work. Analyzing data to find patterns</span>\n",
       "<span style=\"color: #00d700; text-decoration-color: #00d700; font-weight: bold\">          &gt; and insights is fascinating, and I love building models that can help improve user</span>\n",
       "<span style=\"color: #00d700; text-decoration-color: #00d700; font-weight: bold\">          &gt; experiences. It's rewarding to see how my work can make a difference in how people</span>\n",
       "<span style=\"color: #00d700; text-decoration-color: #00d700; font-weight: bold\">          &gt; interact with technology. Do you have any favorite projects you've worked on?</span>\n",
       "</pre>\n"
      ],
      "text/plain": [
       "\u001b[1;4;38;5;40mLisa\u001b[0m\u001b[1;38;5;40m acts: \u001b[0m\u001b[1;38;5;40m[\u001b[0m\u001b[1;38;5;40mTALK\u001b[0m\u001b[1;38;5;40m]\u001b[0m\u001b[1;38;5;40m \u001b[0m\n",
       "\u001b[1;38;5;40m          > I really enjoy the problem-solving aspect of my work. Analyzing data to find patterns\u001b[0m\n",
       "\u001b[1;38;5;40m          > and insights is fascinating, and I love building models that can help improve user\u001b[0m\n",
       "\u001b[1;38;5;40m          > experiences. It's rewarding to see how my work can make a difference in how people\u001b[0m\n",
       "\u001b[1;38;5;40m          > interact with technology. Do you have any favorite projects you've worked on?\u001b[0m\n"
      ]
     },
     "metadata": {},
     "output_type": "display_data"
    },
    {
     "data": {
      "text/html": [
       "<pre style=\"margin:0px;;white-space:pre;overflow-x:auto;line-height:normal;font-family:Menlo,'DejaVu Sans Mono',consolas,'Courier New',monospace\"><span style=\"color: #d0d0d0; text-decoration-color: #d0d0d0; text-decoration: underline\">Lisa</span><span style=\"color: #d0d0d0; text-decoration-color: #d0d0d0\"> acts: </span><span style=\"color: #d0d0d0; text-decoration-color: #d0d0d0; font-weight: bold\">[</span><span style=\"color: #d0d0d0; text-decoration-color: #d0d0d0\">DONE</span><span style=\"color: #d0d0d0; text-decoration-color: #d0d0d0; font-weight: bold\">]</span><span style=\"color: #d0d0d0; text-decoration-color: #d0d0d0\"> </span>\n",
       "\n",
       "</pre>\n"
      ],
      "text/plain": [
       "\u001b[4;38;5;252mLisa\u001b[0m\u001b[38;5;252m acts: \u001b[0m\u001b[1;38;5;252m[\u001b[0m\u001b[38;5;252mDONE\u001b[0m\u001b[1;38;5;252m]\u001b[0m\u001b[38;5;252m \u001b[0m\n",
       "\n"
      ]
     },
     "metadata": {},
     "output_type": "display_data"
    },
    {
     "data": {
      "text/html": [
       "<pre style=\"margin:0px;;white-space:pre;overflow-x:auto;line-height:normal;font-family:Menlo,'DejaVu Sans Mono',consolas,'Courier New',monospace\"><span style=\"color: #00ffff; text-decoration-color: #00ffff; font-weight: bold; font-style: italic; text-decoration: underline\">Lisa</span><span style=\"color: #00ffff; text-decoration-color: #00ffff; font-weight: bold; font-style: italic\"> --&gt; </span><span style=\"color: #00ffff; text-decoration-color: #00ffff; font-weight: bold; font-style: italic; text-decoration: underline\">Oscar</span><span style=\"color: #00ffff; text-decoration-color: #00ffff; font-weight: bold; font-style: italic\">: [CONVERSATION] </span>\n",
       "<span style=\"color: #00ffff; text-decoration-color: #00ffff; font-weight: bold; font-style: italic\">          &gt; I really enjoy the problem-solving aspect of my work. Analyzing data to find patterns</span>\n",
       "<span style=\"color: #00ffff; text-decoration-color: #00ffff; font-weight: bold; font-style: italic\">          &gt; and insights is fascinating, and I love building models that can help improve user</span>\n",
       "<span style=\"color: #00ffff; text-decoration-color: #00ffff; font-weight: bold; font-style: italic\">          &gt; experiences. It's rewarding to see how my work can make a difference in how people</span>\n",
       "<span style=\"color: #00ffff; text-decoration-color: #00ffff; font-weight: bold; font-style: italic\">          &gt; interact with technology. Do you have any favorite projects you've worked on?</span>\n",
       "</pre>\n"
      ],
      "text/plain": [
       "\u001b[1;3;4;38;5;51mLisa\u001b[0m\u001b[1;3;38;5;51m --> \u001b[0m\u001b[1;3;4;38;5;51mOscar\u001b[0m\u001b[1;3;38;5;51m: \u001b[0m\u001b[1;3;38;5;51m[\u001b[0m\u001b[1;3;38;5;51mCONVERSATION\u001b[0m\u001b[1;3;38;5;51m]\u001b[0m\u001b[1;3;38;5;51m \u001b[0m\n",
       "\u001b[1;3;38;5;51m          > I really enjoy the problem-solving aspect of my work. Analyzing data to find patterns\u001b[0m\n",
       "\u001b[1;3;38;5;51m          > and insights is fascinating, and I love building models that can help improve user\u001b[0m\n",
       "\u001b[1;3;38;5;51m          > experiences. It's rewarding to see how my work can make a difference in how people\u001b[0m\n",
       "\u001b[1;3;38;5;51m          > interact with technology. Do you have any favorite projects you've worked on?\u001b[0m\n"
      ]
     },
     "metadata": {},
     "output_type": "display_data"
    },
    {
     "data": {
      "text/html": [
       "<pre style=\"margin:0px;;white-space:pre;overflow-x:auto;line-height:normal;font-family:Menlo,'DejaVu Sans Mono',consolas,'Courier New',monospace\"><span style=\"color: #008000; text-decoration-color: #008000; text-decoration: underline\">Oscar</span><span style=\"color: #008000; text-decoration-color: #008000\"> acts: </span><span style=\"color: #008000; text-decoration-color: #008000; font-weight: bold\">[</span><span style=\"color: #008000; text-decoration-color: #008000\">THINK</span><span style=\"color: #008000; text-decoration-color: #008000; font-weight: bold\">]</span><span style=\"color: #008000; text-decoration-color: #008000\"> </span>\n",
       "<span style=\"color: #008000; text-decoration-color: #008000\">           &gt; Lisa's enthusiasm for problem-solving and improving user experiences resonates with me.</span>\n",
       "<span style=\"color: #008000; text-decoration-color: #008000\">           &gt; I should share a favorite project of mine that highlights my design philosophy and how</span>\n",
       "<span style=\"color: #008000; text-decoration-color: #008000\">           &gt; it positively impacted users.</span>\n",
       "</pre>\n"
      ],
      "text/plain": [
       "\u001b[4;32mOscar\u001b[0m\u001b[32m acts: \u001b[0m\u001b[1;32m[\u001b[0m\u001b[32mTHINK\u001b[0m\u001b[1;32m]\u001b[0m\u001b[32m \u001b[0m\n",
       "\u001b[32m           > Lisa's enthusiasm for problem-solving and improving user experiences resonates with me.\u001b[0m\n",
       "\u001b[32m           > I should share a favorite project of mine that highlights my design philosophy and how\u001b[0m\n",
       "\u001b[32m           > it positively impacted users.\u001b[0m\n"
      ]
     },
     "metadata": {},
     "output_type": "display_data"
    },
    {
     "data": {
      "text/html": [
       "<pre style=\"margin:0px;;white-space:pre;overflow-x:auto;line-height:normal;font-family:Menlo,'DejaVu Sans Mono',consolas,'Courier New',monospace\"><span style=\"color: #00d700; text-decoration-color: #00d700; font-weight: bold; text-decoration: underline\">Oscar</span><span style=\"color: #00d700; text-decoration-color: #00d700; font-weight: bold\"> acts: [TALK] </span>\n",
       "<span style=\"color: #00d700; text-decoration-color: #00d700; font-weight: bold\">           &gt; I have a couple of favorite projects! One that stands out is a community center I</span>\n",
       "<span style=\"color: #00d700; text-decoration-color: #00d700; font-weight: bold\">           &gt; designed that focuses on sustainability and accessibility. It was rewarding to see how</span>\n",
       "<span style=\"color: #00d700; text-decoration-color: #00d700; font-weight: bold\">           &gt; the space brought people together and provided resources for the community. I also</span>\n",
       "<span style=\"color: #00d700; text-decoration-color: #00d700; font-weight: bold\">           &gt; enjoyed working on a modern apartment complex that incorporated green spaces and</span>\n",
       "<span style=\"color: #00d700; text-decoration-color: #00d700; font-weight: bold\">           &gt; natural light, which really enhanced the living experience for residents. What about</span>\n",
       "<span style=\"color: #00d700; text-decoration-color: #00d700; font-weight: bold\">           &gt; you? Any projects you're particularly proud of?</span>\n",
       "</pre>\n"
      ],
      "text/plain": [
       "\u001b[1;4;38;5;40mOscar\u001b[0m\u001b[1;38;5;40m acts: \u001b[0m\u001b[1;38;5;40m[\u001b[0m\u001b[1;38;5;40mTALK\u001b[0m\u001b[1;38;5;40m]\u001b[0m\u001b[1;38;5;40m \u001b[0m\n",
       "\u001b[1;38;5;40m           > I have a couple of favorite projects! One that stands out is a community center I\u001b[0m\n",
       "\u001b[1;38;5;40m           > designed that focuses on sustainability and accessibility. It was rewarding to see how\u001b[0m\n",
       "\u001b[1;38;5;40m           > the space brought people together and provided resources for the community. I also\u001b[0m\n",
       "\u001b[1;38;5;40m           > enjoyed working on a modern apartment complex that incorporated green spaces and\u001b[0m\n",
       "\u001b[1;38;5;40m           > natural light, which really enhanced the living experience for residents. What about\u001b[0m\n",
       "\u001b[1;38;5;40m           > you? Any projects you're particularly proud of?\u001b[0m\n"
      ]
     },
     "metadata": {},
     "output_type": "display_data"
    },
    {
     "data": {
      "text/html": [
       "<pre style=\"margin:0px;;white-space:pre;overflow-x:auto;line-height:normal;font-family:Menlo,'DejaVu Sans Mono',consolas,'Courier New',monospace\"><span style=\"color: #d0d0d0; text-decoration-color: #d0d0d0; text-decoration: underline\">Oscar</span><span style=\"color: #d0d0d0; text-decoration-color: #d0d0d0\"> acts: </span><span style=\"color: #d0d0d0; text-decoration-color: #d0d0d0; font-weight: bold\">[</span><span style=\"color: #d0d0d0; text-decoration-color: #d0d0d0\">DONE</span><span style=\"color: #d0d0d0; text-decoration-color: #d0d0d0; font-weight: bold\">]</span><span style=\"color: #d0d0d0; text-decoration-color: #d0d0d0\"> </span>\n",
       "\n",
       "</pre>\n"
      ],
      "text/plain": [
       "\u001b[4;38;5;252mOscar\u001b[0m\u001b[38;5;252m acts: \u001b[0m\u001b[1;38;5;252m[\u001b[0m\u001b[38;5;252mDONE\u001b[0m\u001b[1;38;5;252m]\u001b[0m\u001b[38;5;252m \u001b[0m\n",
       "\n"
      ]
     },
     "metadata": {},
     "output_type": "display_data"
    },
    {
     "data": {
      "text/html": [
       "<pre style=\"margin:0px;;white-space:pre;overflow-x:auto;line-height:normal;font-family:Menlo,'DejaVu Sans Mono',consolas,'Courier New',monospace\"><span style=\"color: #00ffff; text-decoration-color: #00ffff; font-weight: bold; font-style: italic; text-decoration: underline\">Oscar</span><span style=\"color: #00ffff; text-decoration-color: #00ffff; font-weight: bold; font-style: italic\"> --&gt; </span><span style=\"color: #00ffff; text-decoration-color: #00ffff; font-weight: bold; font-style: italic; text-decoration: underline\">Lisa</span><span style=\"color: #00ffff; text-decoration-color: #00ffff; font-weight: bold; font-style: italic\">: [CONVERSATION] </span>\n",
       "<span style=\"color: #00ffff; text-decoration-color: #00ffff; font-weight: bold; font-style: italic\">           &gt; I have a couple of favorite projects! One that stands out is a community center I</span>\n",
       "<span style=\"color: #00ffff; text-decoration-color: #00ffff; font-weight: bold; font-style: italic\">           &gt; designed that focuses on sustainability and accessibility. It was rewarding to see how</span>\n",
       "<span style=\"color: #00ffff; text-decoration-color: #00ffff; font-weight: bold; font-style: italic\">           &gt; the space brought people together and provided resources for the community. I also</span>\n",
       "<span style=\"color: #00ffff; text-decoration-color: #00ffff; font-weight: bold; font-style: italic\">           &gt; enjoyed working on a modern apartment complex that incorporated green spaces and</span>\n",
       "<span style=\"color: #00ffff; text-decoration-color: #00ffff; font-weight: bold; font-style: italic\">           &gt; natural light, which really enhanced the living experience for residents. What about</span>\n",
       "<span style=\"color: #00ffff; text-decoration-color: #00ffff; font-weight: bold; font-style: italic\">           &gt; you? Any projects you're particularly proud of?</span>\n",
       "</pre>\n"
      ],
      "text/plain": [
       "\u001b[1;3;4;38;5;51mOscar\u001b[0m\u001b[1;3;38;5;51m --> \u001b[0m\u001b[1;3;4;38;5;51mLisa\u001b[0m\u001b[1;3;38;5;51m: \u001b[0m\u001b[1;3;38;5;51m[\u001b[0m\u001b[1;3;38;5;51mCONVERSATION\u001b[0m\u001b[1;3;38;5;51m]\u001b[0m\u001b[1;3;38;5;51m \u001b[0m\n",
       "\u001b[1;3;38;5;51m           > I have a couple of favorite projects! One that stands out is a community center I\u001b[0m\n",
       "\u001b[1;3;38;5;51m           > designed that focuses on sustainability and accessibility. It was rewarding to see how\u001b[0m\n",
       "\u001b[1;3;38;5;51m           > the space brought people together and provided resources for the community. I also\u001b[0m\n",
       "\u001b[1;3;38;5;51m           > enjoyed working on a modern apartment complex that incorporated green spaces and\u001b[0m\n",
       "\u001b[1;3;38;5;51m           > natural light, which really enhanced the living experience for residents. What about\u001b[0m\n",
       "\u001b[1;3;38;5;51m           > you? Any projects you're particularly proud of?\u001b[0m\n"
      ]
     },
     "metadata": {},
     "output_type": "display_data"
    },
    {
     "data": {
      "text/html": [
       "<pre style=\"margin:0px;;white-space:pre;overflow-x:auto;line-height:normal;font-family:Menlo,'DejaVu Sans Mono',consolas,'Courier New',monospace\"><span style=\"color: #00ff00; text-decoration-color: #00ff00\">────────────────────────────────────────────── </span>Chat Room step <span style=\"color: #008080; text-decoration-color: #008080; font-weight: bold\">4</span> of <span style=\"color: #008080; text-decoration-color: #008080; font-weight: bold\">4</span><span style=\"color: #00ff00; text-decoration-color: #00ff00\"> ──────────────────────────────────────────────</span>\n",
       "</pre>\n"
      ],
      "text/plain": [
       "\u001b[92m────────────────────────────────────────────── \u001b[0mChat Room step \u001b[1;36m4\u001b[0m of \u001b[1;36m4\u001b[0m\u001b[92m ──────────────────────────────────────────────\u001b[0m\n"
      ]
     },
     "metadata": {},
     "output_type": "display_data"
    },
    {
     "data": {
      "text/html": [
       "<pre style=\"margin:0px;;white-space:pre;overflow-x:auto;line-height:normal;font-family:Menlo,'DejaVu Sans Mono',consolas,'Courier New',monospace\"><span style=\"color: #00d700; text-decoration-color: #00d700; font-weight: bold; text-decoration: underline\">Lisa</span><span style=\"color: #00d700; text-decoration-color: #00d700; font-weight: bold\"> acts: [TALK] </span>\n",
       "<span style=\"color: #00d700; text-decoration-color: #00d700; font-weight: bold\">          &gt; Your projects sound amazing, Oscar! I'm particularly proud of a machine learning model I</span>\n",
       "<span style=\"color: #00d700; text-decoration-color: #00d700; font-weight: bold\">          &gt; developed that improved search result relevance for our users. It was a challenging</span>\n",
       "<span style=\"color: #00d700; text-decoration-color: #00d700; font-weight: bold\">          &gt; project due to the complexity of the data, but seeing the positive impact it had on user</span>\n",
       "<span style=\"color: #00d700; text-decoration-color: #00d700; font-weight: bold\">          &gt; experience was incredibly rewarding. Do you have any upcoming projects you're excited</span>\n",
       "<span style=\"color: #00d700; text-decoration-color: #00d700; font-weight: bold\">          &gt; about?</span>\n",
       "</pre>\n"
      ],
      "text/plain": [
       "\u001b[1;4;38;5;40mLisa\u001b[0m\u001b[1;38;5;40m acts: \u001b[0m\u001b[1;38;5;40m[\u001b[0m\u001b[1;38;5;40mTALK\u001b[0m\u001b[1;38;5;40m]\u001b[0m\u001b[1;38;5;40m \u001b[0m\n",
       "\u001b[1;38;5;40m          > Your projects sound amazing, Oscar! I'm particularly proud of a machine learning model I\u001b[0m\n",
       "\u001b[1;38;5;40m          > developed that improved search result relevance for our users. It was a challenging\u001b[0m\n",
       "\u001b[1;38;5;40m          > project due to the complexity of the data, but seeing the positive impact it had on user\u001b[0m\n",
       "\u001b[1;38;5;40m          > experience was incredibly rewarding. Do you have any upcoming projects you're excited\u001b[0m\n",
       "\u001b[1;38;5;40m          > about?\u001b[0m\n"
      ]
     },
     "metadata": {},
     "output_type": "display_data"
    },
    {
     "data": {
      "text/html": [
       "<pre style=\"margin:0px;;white-space:pre;overflow-x:auto;line-height:normal;font-family:Menlo,'DejaVu Sans Mono',consolas,'Courier New',monospace\"><span style=\"color: #d0d0d0; text-decoration-color: #d0d0d0; text-decoration: underline\">Lisa</span><span style=\"color: #d0d0d0; text-decoration-color: #d0d0d0\"> acts: </span><span style=\"color: #d0d0d0; text-decoration-color: #d0d0d0; font-weight: bold\">[</span><span style=\"color: #d0d0d0; text-decoration-color: #d0d0d0\">DONE</span><span style=\"color: #d0d0d0; text-decoration-color: #d0d0d0; font-weight: bold\">]</span><span style=\"color: #d0d0d0; text-decoration-color: #d0d0d0\"> </span>\n",
       "\n",
       "</pre>\n"
      ],
      "text/plain": [
       "\u001b[4;38;5;252mLisa\u001b[0m\u001b[38;5;252m acts: \u001b[0m\u001b[1;38;5;252m[\u001b[0m\u001b[38;5;252mDONE\u001b[0m\u001b[1;38;5;252m]\u001b[0m\u001b[38;5;252m \u001b[0m\n",
       "\n"
      ]
     },
     "metadata": {},
     "output_type": "display_data"
    },
    {
     "data": {
      "text/html": [
       "<pre style=\"margin:0px;;white-space:pre;overflow-x:auto;line-height:normal;font-family:Menlo,'DejaVu Sans Mono',consolas,'Courier New',monospace\"><span style=\"color: #00ffff; text-decoration-color: #00ffff; font-weight: bold; font-style: italic; text-decoration: underline\">Lisa</span><span style=\"color: #00ffff; text-decoration-color: #00ffff; font-weight: bold; font-style: italic\"> --&gt; </span><span style=\"color: #00ffff; text-decoration-color: #00ffff; font-weight: bold; font-style: italic; text-decoration: underline\">Oscar</span><span style=\"color: #00ffff; text-decoration-color: #00ffff; font-weight: bold; font-style: italic\">: [CONVERSATION] </span>\n",
       "<span style=\"color: #00ffff; text-decoration-color: #00ffff; font-weight: bold; font-style: italic\">          &gt; Your projects sound amazing, Oscar! I'm particularly proud of a machine learning model I</span>\n",
       "<span style=\"color: #00ffff; text-decoration-color: #00ffff; font-weight: bold; font-style: italic\">          &gt; developed that improved search result relevance for our users. It was a challenging</span>\n",
       "<span style=\"color: #00ffff; text-decoration-color: #00ffff; font-weight: bold; font-style: italic\">          &gt; project due to the complexity of the data, but seeing the positive impact it had on user</span>\n",
       "<span style=\"color: #00ffff; text-decoration-color: #00ffff; font-weight: bold; font-style: italic\">          &gt; experience was incredibly rewarding. Do you have any upcoming projects you're excited</span>\n",
       "<span style=\"color: #00ffff; text-decoration-color: #00ffff; font-weight: bold; font-style: italic\">          &gt; about?</span>\n",
       "</pre>\n"
      ],
      "text/plain": [
       "\u001b[1;3;4;38;5;51mLisa\u001b[0m\u001b[1;3;38;5;51m --> \u001b[0m\u001b[1;3;4;38;5;51mOscar\u001b[0m\u001b[1;3;38;5;51m: \u001b[0m\u001b[1;3;38;5;51m[\u001b[0m\u001b[1;3;38;5;51mCONVERSATION\u001b[0m\u001b[1;3;38;5;51m]\u001b[0m\u001b[1;3;38;5;51m \u001b[0m\n",
       "\u001b[1;3;38;5;51m          > Your projects sound amazing, Oscar! I'm particularly proud of a machine learning model I\u001b[0m\n",
       "\u001b[1;3;38;5;51m          > developed that improved search result relevance for our users. It was a challenging\u001b[0m\n",
       "\u001b[1;3;38;5;51m          > project due to the complexity of the data, but seeing the positive impact it had on user\u001b[0m\n",
       "\u001b[1;3;38;5;51m          > experience was incredibly rewarding. Do you have any upcoming projects you're excited\u001b[0m\n",
       "\u001b[1;3;38;5;51m          > about?\u001b[0m\n"
      ]
     },
     "metadata": {},
     "output_type": "display_data"
    },
    {
     "data": {
      "text/html": [
       "<pre style=\"margin:0px;;white-space:pre;overflow-x:auto;line-height:normal;font-family:Menlo,'DejaVu Sans Mono',consolas,'Courier New',monospace\"><span style=\"color: #008000; text-decoration-color: #008000; text-decoration: underline\">Oscar</span><span style=\"color: #008000; text-decoration-color: #008000\"> acts: </span><span style=\"color: #008000; text-decoration-color: #008000; font-weight: bold\">[</span><span style=\"color: #008000; text-decoration-color: #008000\">THINK</span><span style=\"color: #008000; text-decoration-color: #008000; font-weight: bold\">]</span><span style=\"color: #008000; text-decoration-color: #008000\"> </span>\n",
       "<span style=\"color: #008000; text-decoration-color: #008000\">           &gt; Lisa's project on improving search result relevance sounds impressive! I should mention</span>\n",
       "<span style=\"color: #008000; text-decoration-color: #008000\">           &gt; my upcoming projects, particularly one that focuses on sustainable housing designs,</span>\n",
       "<span style=\"color: #008000; text-decoration-color: #008000\">           &gt; which I'm really excited about.</span>\n",
       "</pre>\n"
      ],
      "text/plain": [
       "\u001b[4;32mOscar\u001b[0m\u001b[32m acts: \u001b[0m\u001b[1;32m[\u001b[0m\u001b[32mTHINK\u001b[0m\u001b[1;32m]\u001b[0m\u001b[32m \u001b[0m\n",
       "\u001b[32m           > Lisa's project on improving search result relevance sounds impressive! I should mention\u001b[0m\n",
       "\u001b[32m           > my upcoming projects, particularly one that focuses on sustainable housing designs,\u001b[0m\n",
       "\u001b[32m           > which I'm really excited about.\u001b[0m\n"
      ]
     },
     "metadata": {},
     "output_type": "display_data"
    },
    {
     "data": {
      "text/html": [
       "<pre style=\"margin:0px;;white-space:pre;overflow-x:auto;line-height:normal;font-family:Menlo,'DejaVu Sans Mono',consolas,'Courier New',monospace\"><span style=\"color: #00d700; text-decoration-color: #00d700; font-weight: bold; text-decoration: underline\">Oscar</span><span style=\"color: #00d700; text-decoration-color: #00d700; font-weight: bold\"> acts: [TALK] </span>\n",
       "<span style=\"color: #00d700; text-decoration-color: #00d700; font-weight: bold\">           &gt; I'm really excited about a couple of upcoming projects! One of them focuses on</span>\n",
       "<span style=\"color: #00d700; text-decoration-color: #00d700; font-weight: bold\">           &gt; designing sustainable housing that incorporates renewable energy sources and green</span>\n",
       "<span style=\"color: #00d700; text-decoration-color: #00d700; font-weight: bold\">           &gt; materials. I'm also working on a project that aims to create more community spaces</span>\n",
       "<span style=\"color: #00d700; text-decoration-color: #00d700; font-weight: bold\">           &gt; within urban environments, which I believe is essential for enhancing social</span>\n",
       "<span style=\"color: #00d700; text-decoration-color: #00d700; font-weight: bold\">           &gt; interactions. What about you? Any new projects on the horizon?</span>\n",
       "</pre>\n"
      ],
      "text/plain": [
       "\u001b[1;4;38;5;40mOscar\u001b[0m\u001b[1;38;5;40m acts: \u001b[0m\u001b[1;38;5;40m[\u001b[0m\u001b[1;38;5;40mTALK\u001b[0m\u001b[1;38;5;40m]\u001b[0m\u001b[1;38;5;40m \u001b[0m\n",
       "\u001b[1;38;5;40m           > I'm really excited about a couple of upcoming projects! One of them focuses on\u001b[0m\n",
       "\u001b[1;38;5;40m           > designing sustainable housing that incorporates renewable energy sources and green\u001b[0m\n",
       "\u001b[1;38;5;40m           > materials. I'm also working on a project that aims to create more community spaces\u001b[0m\n",
       "\u001b[1;38;5;40m           > within urban environments, which I believe is essential for enhancing social\u001b[0m\n",
       "\u001b[1;38;5;40m           > interactions. What about you? Any new projects on the horizon?\u001b[0m\n"
      ]
     },
     "metadata": {},
     "output_type": "display_data"
    },
    {
     "data": {
      "text/html": [
       "<pre style=\"margin:0px;;white-space:pre;overflow-x:auto;line-height:normal;font-family:Menlo,'DejaVu Sans Mono',consolas,'Courier New',monospace\"><span style=\"color: #d0d0d0; text-decoration-color: #d0d0d0; text-decoration: underline\">Oscar</span><span style=\"color: #d0d0d0; text-decoration-color: #d0d0d0\"> acts: </span><span style=\"color: #d0d0d0; text-decoration-color: #d0d0d0; font-weight: bold\">[</span><span style=\"color: #d0d0d0; text-decoration-color: #d0d0d0\">DONE</span><span style=\"color: #d0d0d0; text-decoration-color: #d0d0d0; font-weight: bold\">]</span><span style=\"color: #d0d0d0; text-decoration-color: #d0d0d0\"> </span>\n",
       "\n",
       "</pre>\n"
      ],
      "text/plain": [
       "\u001b[4;38;5;252mOscar\u001b[0m\u001b[38;5;252m acts: \u001b[0m\u001b[1;38;5;252m[\u001b[0m\u001b[38;5;252mDONE\u001b[0m\u001b[1;38;5;252m]\u001b[0m\u001b[38;5;252m \u001b[0m\n",
       "\n"
      ]
     },
     "metadata": {},
     "output_type": "display_data"
    },
    {
     "data": {
      "text/html": [
       "<pre style=\"margin:0px;;white-space:pre;overflow-x:auto;line-height:normal;font-family:Menlo,'DejaVu Sans Mono',consolas,'Courier New',monospace\"><span style=\"color: #00ffff; text-decoration-color: #00ffff; font-weight: bold; font-style: italic; text-decoration: underline\">Oscar</span><span style=\"color: #00ffff; text-decoration-color: #00ffff; font-weight: bold; font-style: italic\"> --&gt; </span><span style=\"color: #00ffff; text-decoration-color: #00ffff; font-weight: bold; font-style: italic; text-decoration: underline\">Lisa</span><span style=\"color: #00ffff; text-decoration-color: #00ffff; font-weight: bold; font-style: italic\">: [CONVERSATION] </span>\n",
       "<span style=\"color: #00ffff; text-decoration-color: #00ffff; font-weight: bold; font-style: italic\">           &gt; I'm really excited about a couple of upcoming projects! One of them focuses on</span>\n",
       "<span style=\"color: #00ffff; text-decoration-color: #00ffff; font-weight: bold; font-style: italic\">           &gt; designing sustainable housing that incorporates renewable energy sources and green</span>\n",
       "<span style=\"color: #00ffff; text-decoration-color: #00ffff; font-weight: bold; font-style: italic\">           &gt; materials. I'm also working on a project that aims to create more community spaces</span>\n",
       "<span style=\"color: #00ffff; text-decoration-color: #00ffff; font-weight: bold; font-style: italic\">           &gt; within urban environments, which I believe is essential for enhancing social</span>\n",
       "<span style=\"color: #00ffff; text-decoration-color: #00ffff; font-weight: bold; font-style: italic\">           &gt; interactions. What about you? Any new projects on the horizon?</span>\n",
       "</pre>\n"
      ],
      "text/plain": [
       "\u001b[1;3;4;38;5;51mOscar\u001b[0m\u001b[1;3;38;5;51m --> \u001b[0m\u001b[1;3;4;38;5;51mLisa\u001b[0m\u001b[1;3;38;5;51m: \u001b[0m\u001b[1;3;38;5;51m[\u001b[0m\u001b[1;3;38;5;51mCONVERSATION\u001b[0m\u001b[1;3;38;5;51m]\u001b[0m\u001b[1;3;38;5;51m \u001b[0m\n",
       "\u001b[1;3;38;5;51m           > I'm really excited about a couple of upcoming projects! One of them focuses on\u001b[0m\n",
       "\u001b[1;3;38;5;51m           > designing sustainable housing that incorporates renewable energy sources and green\u001b[0m\n",
       "\u001b[1;3;38;5;51m           > materials. I'm also working on a project that aims to create more community spaces\u001b[0m\n",
       "\u001b[1;3;38;5;51m           > within urban environments, which I believe is essential for enhancing social\u001b[0m\n",
       "\u001b[1;3;38;5;51m           > interactions. What about you? Any new projects on the horizon?\u001b[0m\n"
      ]
     },
     "metadata": {},
     "output_type": "display_data"
    }
   ],
   "source": [
    "lisa.listen(\"Talk to Oscar to know more about him\")\n",
    "world.run(4)"
   ]
  },
  {
   "cell_type": "code",
   "execution_count": 5,
   "metadata": {},
   "outputs": [
    {
     "data": {
      "text/html": [
       "<pre style=\"margin:0px;;white-space:pre;overflow-x:auto;line-height:normal;font-family:Menlo,'DejaVu Sans Mono',consolas,'Courier New',monospace\">&gt;&gt;&gt;&gt;&gt;&gt;&gt;&gt;&gt; Date and time of events: <span style=\"color: #008080; text-decoration-color: #008080; font-weight: bold\">2024</span>-<span style=\"color: #008080; text-decoration-color: #008080; font-weight: bold\">11</span>-25T<span style=\"color: #00ff00; text-decoration-color: #00ff00; font-weight: bold\">07:32:11</span>.<span style=\"color: #008080; text-decoration-color: #008080; font-weight: bold\">704931</span>\n",
       "<span style=\"color: #00ffff; text-decoration-color: #00ffff; font-weight: bold; font-style: italic; text-decoration: underline\">USER</span><span style=\"color: #00ffff; text-decoration-color: #00ffff; font-weight: bold; font-style: italic\"> --&gt; </span><span style=\"color: #00ffff; text-decoration-color: #00ffff; font-weight: bold; font-style: italic; text-decoration: underline\">Lisa</span><span style=\"color: #00ffff; text-decoration-color: #00ffff; font-weight: bold; font-style: italic\">: [CONVERSATION] </span>\n",
       "<span style=\"color: #00ffff; text-decoration-color: #00ffff; font-weight: bold; font-style: italic\">          &gt; Talk to Oscar to know more about him</span>\n",
       "<span style=\"color: #00ffff; text-decoration-color: #00ffff; font-weight: bold; font-style: italic\">&gt;&gt;&gt;&gt;&gt;&gt;&gt;&gt;&gt; Date and time of events: 2024-11-25T07:32:11.704931</span>\n",
       "<span style=\"color: #af00ff; text-decoration-color: #af00ff; font-weight: bold; font-style: italic; text-decoration: underline\">Lisa</span><span style=\"color: #af00ff; text-decoration-color: #af00ff; font-weight: bold; font-style: italic\"> acts: [REACH_OUT] </span>\n",
       "\n",
       "<span style=\"color: #00ffff; text-decoration-color: #00ffff; font-weight: bold; font-style: italic\">&gt;&gt;&gt;&gt;&gt;&gt;&gt;&gt;&gt; Date and time of events: 2024-11-25T07:32:11.704931</span>\n",
       "<span style=\"color: #00d700; text-decoration-color: #00d700; font-weight: bold; font-style: italic; text-decoration: underline\">Lisa</span><span style=\"color: #00d700; text-decoration-color: #00d700; font-weight: bold; font-style: italic\"> acts: [TALK] </span>\n",
       "<span style=\"color: #00d700; text-decoration-color: #00d700; font-weight: bold; font-style: italic\">          &gt; Hi Oscar! I wanted to know more about you. What do you do?</span>\n",
       "<span style=\"color: #00ffff; text-decoration-color: #00ffff; font-weight: bold; font-style: italic\">&gt;&gt;&gt;&gt;&gt;&gt;&gt;&gt;&gt; Date and time of events: 2024-11-25T07:32:11.704931</span>\n",
       "<span style=\"color: #d0d0d0; text-decoration-color: #d0d0d0; font-weight: bold; font-style: italic; text-decoration: underline\">Lisa</span><span style=\"color: #d0d0d0; text-decoration-color: #d0d0d0; font-weight: bold; font-style: italic\"> acts: [DONE] </span>\n",
       "\n",
       "<span style=\"color: #00ffff; text-decoration-color: #00ffff; font-weight: bold; font-style: italic\">&gt;&gt;&gt;&gt;&gt;&gt;&gt;&gt;&gt; Date and time of events: 2024-11-25T07:32:11.704931</span>\n",
       "<span style=\"color: #00ffff; text-decoration-color: #00ffff; font-weight: bold; font-style: italic; text-decoration: underline\">Chat Room</span><span style=\"color: #00ffff; text-decoration-color: #00ffff; font-weight: bold; font-style: italic\"> --&gt; </span><span style=\"color: #00ffff; text-decoration-color: #00ffff; font-weight: bold; font-style: italic; text-decoration: underline\">Lisa</span><span style=\"color: #00ffff; text-decoration-color: #00ffff; font-weight: bold; font-style: italic\">: [SOCIAL] </span>\n",
       "<span style=\"color: #00ffff; text-decoration-color: #00ffff; font-weight: bold; font-style: italic\">               &gt; Oscar was successfully reached out, and is now available for interaction.</span>\n",
       "<span style=\"color: #00ffff; text-decoration-color: #00ffff; font-weight: bold; font-style: italic\">&gt;&gt;&gt;&gt;&gt;&gt;&gt;&gt;&gt; Date and time of events: 2024-11-25T07:32:11.704931</span>\n",
       "<span style=\"color: #00ffff; text-decoration-color: #00ffff; font-weight: bold; font-style: italic; text-decoration: underline\">Oscar</span><span style=\"color: #00ffff; text-decoration-color: #00ffff; font-weight: bold; font-style: italic\"> --&gt; </span><span style=\"color: #00ffff; text-decoration-color: #00ffff; font-weight: bold; font-style: italic; text-decoration: underline\">Lisa</span><span style=\"color: #00ffff; text-decoration-color: #00ffff; font-weight: bold; font-style: italic\">: [CONVERSATION] </span>\n",
       "<span style=\"color: #00ffff; text-decoration-color: #00ffff; font-weight: bold; font-style: italic\">           &gt; Hi Lisa! I'm an architect at Awesome Inc. I work on creating standard designs for</span>\n",
       "<span style=\"color: #00ffff; text-decoration-color: #00ffff; font-weight: bold; font-style: italic\">           &gt; apartment buildings, making sure they are functional and aesthetically pleasing. I also</span>\n",
       "<span style=\"color: #00ffff; text-decoration-color: #00ffff; font-weight: bold; font-style: italic\">           &gt; have a keen interest in modernist architecture and sustainable practices. What about</span>\n",
       "<span style=\"color: #00ffff; text-decoration-color: #00ffff; font-weight: bold; font-style: italic\">           &gt; you? What do you do?</span>\n",
       "<span style=\"color: #00ffff; text-decoration-color: #00ffff; font-weight: bold; font-style: italic\">&gt;&gt;&gt;&gt;&gt;&gt;&gt;&gt;&gt; Date and time of events: 2024-11-25T07:32:11.704931</span>\n",
       "<span style=\"color: #00d700; text-decoration-color: #00d700; font-weight: bold; font-style: italic; text-decoration: underline\">Lisa</span><span style=\"color: #00d700; text-decoration-color: #00d700; font-weight: bold; font-style: italic\"> acts: [TALK] </span>\n",
       "<span style=\"color: #00d700; text-decoration-color: #00d700; font-weight: bold; font-style: italic\">          &gt; That's really interesting, Oscar! I'm a data scientist at Microsoft, working on the M365</span>\n",
       "<span style=\"color: #00d700; text-decoration-color: #00d700; font-weight: bold; font-style: italic\">          &gt; Search team. I analyze user behavior and feedback data to improve search results. I also</span>\n",
       "<span style=\"color: #00d700; text-decoration-color: #00d700; font-weight: bold; font-style: italic\">          &gt; build machine learning models for various search scenarios. I'm really passionate about</span>\n",
       "<span style=\"color: #00d700; text-decoration-color: #00d700; font-weight: bold; font-style: italic\">          &gt; artificial intelligence and user experience. What inspired you to become an architect?</span>\n",
       "<span style=\"color: #00ffff; text-decoration-color: #00ffff; font-weight: bold; font-style: italic\">&gt;&gt;&gt;&gt;&gt;&gt;&gt;&gt;&gt; Date and time of events: 2024-11-25T07:32:11.704931</span>\n",
       "<span style=\"color: #d0d0d0; text-decoration-color: #d0d0d0; font-weight: bold; font-style: italic; text-decoration: underline\">Lisa</span><span style=\"color: #d0d0d0; text-decoration-color: #d0d0d0; font-weight: bold; font-style: italic\"> acts: [DONE] </span>\n",
       "\n",
       "<span style=\"color: #00ffff; text-decoration-color: #00ffff; font-weight: bold; font-style: italic\">&gt;&gt;&gt;&gt;&gt;&gt;&gt;&gt;&gt; Date and time of events: 2024-11-25T07:32:11.704931</span>\n",
       "<span style=\"color: #00ffff; text-decoration-color: #00ffff; font-weight: bold; font-style: italic; text-decoration: underline\">Oscar</span><span style=\"color: #00ffff; text-decoration-color: #00ffff; font-weight: bold; font-style: italic\"> --&gt; </span><span style=\"color: #00ffff; text-decoration-color: #00ffff; font-weight: bold; font-style: italic; text-decoration: underline\">Lisa</span><span style=\"color: #00ffff; text-decoration-color: #00ffff; font-weight: bold; font-style: italic\">: [CONVERSATION] </span>\n",
       "<span style=\"color: #00ffff; text-decoration-color: #00ffff; font-weight: bold; font-style: italic\">           &gt; That's great to hear, Lisa! I became an architect because I've always been passionate</span>\n",
       "<span style=\"color: #00ffff; text-decoration-color: #00ffff; font-weight: bold; font-style: italic\">           &gt; about design and creating spaces that improve people's lives. I love the idea of</span>\n",
       "<span style=\"color: #00ffff; text-decoration-color: #00ffff; font-weight: bold; font-style: italic\">           &gt; blending functionality with aesthetics. It’s rewarding to see how architecture can</span>\n",
       "<span style=\"color: #00ffff; text-decoration-color: #00ffff; font-weight: bold; font-style: italic\">           &gt; shape experiences. What do you enjoy most about your work in data science?</span>\n",
       "<span style=\"color: #00ffff; text-decoration-color: #00ffff; font-weight: bold; font-style: italic\">&gt;&gt;&gt;&gt;&gt;&gt;&gt;&gt;&gt; Date and time of events: 2024-11-25T07:32:11.704931</span>\n",
       "<span style=\"color: #00d700; text-decoration-color: #00d700; font-weight: bold; font-style: italic; text-decoration: underline\">Lisa</span><span style=\"color: #00d700; text-decoration-color: #00d700; font-weight: bold; font-style: italic\"> acts: [TALK] </span>\n",
       "<span style=\"color: #00d700; text-decoration-color: #00d700; font-weight: bold; font-style: italic\">          &gt; I really enjoy the problem-solving aspect of my work. Analyzing data to find patterns</span>\n",
       "<span style=\"color: #00d700; text-decoration-color: #00d700; font-weight: bold; font-style: italic\">          &gt; and insights is fascinating, and I love building models that can help improve user</span>\n",
       "<span style=\"color: #00d700; text-decoration-color: #00d700; font-weight: bold; font-style: italic\">          &gt; experiences. It's rewarding to see how my work can make a difference in how people</span>\n",
       "<span style=\"color: #00d700; text-decoration-color: #00d700; font-weight: bold; font-style: italic\">          &gt; interact with technology. Do you have any favorite projects you've worked on?</span>\n",
       "<span style=\"color: #00ffff; text-decoration-color: #00ffff; font-weight: bold; font-style: italic\">&gt;&gt;&gt;&gt;&gt;&gt;&gt;&gt;&gt; Date and time of events: 2024-11-25T07:32:11.704931</span>\n",
       "<span style=\"color: #d0d0d0; text-decoration-color: #d0d0d0; font-weight: bold; font-style: italic; text-decoration: underline\">Lisa</span><span style=\"color: #d0d0d0; text-decoration-color: #d0d0d0; font-weight: bold; font-style: italic\"> acts: [DONE] </span>\n",
       "\n",
       "<span style=\"color: #00ffff; text-decoration-color: #00ffff; font-weight: bold; font-style: italic\">&gt;&gt;&gt;&gt;&gt;&gt;&gt;&gt;&gt; Date and time of events: 2024-11-25T07:32:11.704931</span>\n",
       "<span style=\"color: #00ffff; text-decoration-color: #00ffff; font-weight: bold; font-style: italic; text-decoration: underline\">Oscar</span><span style=\"color: #00ffff; text-decoration-color: #00ffff; font-weight: bold; font-style: italic\"> --&gt; </span><span style=\"color: #00ffff; text-decoration-color: #00ffff; font-weight: bold; font-style: italic; text-decoration: underline\">Lisa</span><span style=\"color: #00ffff; text-decoration-color: #00ffff; font-weight: bold; font-style: italic\">: [CONVERSATION] </span>\n",
       "<span style=\"color: #00ffff; text-decoration-color: #00ffff; font-weight: bold; font-style: italic\">           &gt; I have a couple of favorite projects! One that stands out is a community center I</span>\n",
       "<span style=\"color: #00ffff; text-decoration-color: #00ffff; font-weight: bold; font-style: italic\">           &gt; designed that focuses on sustainability and accessibility. It was rewarding to see how</span>\n",
       "<span style=\"color: #00ffff; text-decoration-color: #00ffff; font-weight: bold; font-style: italic\">           &gt; the space brought people together and provided resources for the community. I also</span>\n",
       "<span style=\"color: #00ffff; text-decoration-color: #00ffff; font-weight: bold; font-style: italic\">           &gt; enjoyed working on a modern apartment complex that incorporated green spaces and</span>\n",
       "<span style=\"color: #00ffff; text-decoration-color: #00ffff; font-weight: bold; font-style: italic\">           &gt; natural light, which really enhanced the living experience for residents. What about</span>\n",
       "<span style=\"color: #00ffff; text-decoration-color: #00ffff; font-weight: bold; font-style: italic\">           &gt; you? Any projects you're particularly proud of?</span>\n",
       "<span style=\"color: #00ffff; text-decoration-color: #00ffff; font-weight: bold; font-style: italic\">&gt;&gt;&gt;&gt;&gt;&gt;&gt;&gt;&gt; Date and time of events: 2024-11-25T07:32:11.704931</span>\n",
       "<span style=\"color: #00d700; text-decoration-color: #00d700; font-weight: bold; font-style: italic; text-decoration: underline\">Lisa</span><span style=\"color: #00d700; text-decoration-color: #00d700; font-weight: bold; font-style: italic\"> acts: [TALK] </span>\n",
       "<span style=\"color: #00d700; text-decoration-color: #00d700; font-weight: bold; font-style: italic\">          &gt; Your projects sound amazing, Oscar! I'm particularly proud of a machine learning model I</span>\n",
       "<span style=\"color: #00d700; text-decoration-color: #00d700; font-weight: bold; font-style: italic\">          &gt; developed that improved search result relevance for our users. It was a challenging</span>\n",
       "<span style=\"color: #00d700; text-decoration-color: #00d700; font-weight: bold; font-style: italic\">          &gt; project due to the complexity of the data, but seeing the positive impact it had on user</span>\n",
       "<span style=\"color: #00d700; text-decoration-color: #00d700; font-weight: bold; font-style: italic\">          &gt; experience was incredibly rewarding. Do you have any upcoming projects you're excited</span>\n",
       "<span style=\"color: #00d700; text-decoration-color: #00d700; font-weight: bold; font-style: italic\">          &gt; about?</span>\n",
       "<span style=\"color: #00ffff; text-decoration-color: #00ffff; font-weight: bold; font-style: italic\">&gt;&gt;&gt;&gt;&gt;&gt;&gt;&gt;&gt; Date and time of events: 2024-11-25T07:32:11.704931</span>\n",
       "<span style=\"color: #d0d0d0; text-decoration-color: #d0d0d0; font-weight: bold; font-style: italic; text-decoration: underline\">Lisa</span><span style=\"color: #d0d0d0; text-decoration-color: #d0d0d0; font-weight: bold; font-style: italic\"> acts: [DONE] </span>\n",
       "\n",
       "<span style=\"color: #00ffff; text-decoration-color: #00ffff; font-weight: bold; font-style: italic\">&gt;&gt;&gt;&gt;&gt;&gt;&gt;&gt;&gt; Date and time of events: 2024-11-25T07:32:11.704931</span>\n",
       "<span style=\"color: #00ffff; text-decoration-color: #00ffff; font-weight: bold; font-style: italic; text-decoration: underline\">Oscar</span><span style=\"color: #00ffff; text-decoration-color: #00ffff; font-weight: bold; font-style: italic\"> --&gt; </span><span style=\"color: #00ffff; text-decoration-color: #00ffff; font-weight: bold; font-style: italic; text-decoration: underline\">Lisa</span><span style=\"color: #00ffff; text-decoration-color: #00ffff; font-weight: bold; font-style: italic\">: [CONVERSATION] </span>\n",
       "<span style=\"color: #00ffff; text-decoration-color: #00ffff; font-weight: bold; font-style: italic\">           &gt; I'm really excited about a couple of upcoming projects! One of them focuses on</span>\n",
       "<span style=\"color: #00ffff; text-decoration-color: #00ffff; font-weight: bold; font-style: italic\">           &gt; designing sustainable housing that incorporates renewable energy sources and green</span>\n",
       "<span style=\"color: #00ffff; text-decoration-color: #00ffff; font-weight: bold; font-style: italic\">           &gt; materials. I'm also working on a project that aims to create more community spaces</span>\n",
       "<span style=\"color: #00ffff; text-decoration-color: #00ffff; font-weight: bold; font-style: italic\">           &gt; within urban environments, which I believe is essential for enhancing social</span>\n",
       "<span style=\"color: #00ffff; text-decoration-color: #00ffff; font-weight: bold; font-style: italic\">           &gt; interactions. What about you? Any new projects on the horizon?</span>\n",
       "</pre>\n"
      ],
      "text/plain": [
       ">>>>>>>>> Date and time of events: \u001b[1;36m2024\u001b[0m-\u001b[1;36m11\u001b[0m-25T\u001b[1;92m07:32:11\u001b[0m.\u001b[1;36m704931\u001b[0m\n",
       "\u001b[1;3;4;38;5;51mUSER\u001b[0m\u001b[1;3;38;5;51m --> \u001b[0m\u001b[1;3;4;38;5;51mLisa\u001b[0m\u001b[1;3;38;5;51m: \u001b[0m\u001b[1;3;38;5;51m[\u001b[0m\u001b[1;3;38;5;51mCONVERSATION\u001b[0m\u001b[1;3;38;5;51m]\u001b[0m\u001b[1;3;38;5;51m \u001b[0m\n",
       "\u001b[1;3;38;5;51m          > Talk to Oscar to know more about him\u001b[0m\n",
       "\u001b[1;3;38;5;51m>>>>>>>>> Date and time of events: \u001b[0m\u001b[1;3;38;5;51m2024\u001b[0m\u001b[1;3;38;5;51m-\u001b[0m\u001b[1;3;38;5;51m11\u001b[0m\u001b[1;3;38;5;51m-25T\u001b[0m\u001b[1;3;38;5;51m07:32:11\u001b[0m\u001b[1;3;38;5;51m.\u001b[0m\u001b[1;3;38;5;51m704931\u001b[0m\n",
       "\u001b[1;3;4;38;5;129mLisa\u001b[0m\u001b[1;3;38;5;129m acts: \u001b[0m\u001b[1;3;38;5;129m[\u001b[0m\u001b[1;3;38;5;129mREACH_OUT\u001b[0m\u001b[1;3;38;5;129m]\u001b[0m\u001b[1;3;38;5;129m \u001b[0m\n",
       "\n",
       "\u001b[1;3;38;5;51m>>>>>>>>> Date and time of events: \u001b[0m\u001b[1;3;38;5;51m2024\u001b[0m\u001b[1;3;38;5;51m-\u001b[0m\u001b[1;3;38;5;51m11\u001b[0m\u001b[1;3;38;5;51m-25T\u001b[0m\u001b[1;3;38;5;51m07:32:11\u001b[0m\u001b[1;3;38;5;51m.\u001b[0m\u001b[1;3;38;5;51m704931\u001b[0m\n",
       "\u001b[1;3;4;38;5;40mLisa\u001b[0m\u001b[1;3;38;5;40m acts: \u001b[0m\u001b[1;3;38;5;40m[\u001b[0m\u001b[1;3;38;5;40mTALK\u001b[0m\u001b[1;3;38;5;40m]\u001b[0m\u001b[1;3;38;5;40m \u001b[0m\n",
       "\u001b[1;3;38;5;40m          > Hi Oscar! I wanted to know more about you. What do you do?\u001b[0m\n",
       "\u001b[1;3;38;5;51m>>>>>>>>> Date and time of events: \u001b[0m\u001b[1;3;38;5;51m2024\u001b[0m\u001b[1;3;38;5;51m-\u001b[0m\u001b[1;3;38;5;51m11\u001b[0m\u001b[1;3;38;5;51m-25T\u001b[0m\u001b[1;3;38;5;51m07:32:11\u001b[0m\u001b[1;3;38;5;51m.\u001b[0m\u001b[1;3;38;5;51m704931\u001b[0m\n",
       "\u001b[1;3;4;38;5;252mLisa\u001b[0m\u001b[1;3;38;5;252m acts: \u001b[0m\u001b[1;3;38;5;252m[\u001b[0m\u001b[1;3;38;5;252mDONE\u001b[0m\u001b[1;3;38;5;252m]\u001b[0m\u001b[1;3;38;5;252m \u001b[0m\n",
       "\n",
       "\u001b[1;3;38;5;51m>>>>>>>>> Date and time of events: \u001b[0m\u001b[1;3;38;5;51m2024\u001b[0m\u001b[1;3;38;5;51m-\u001b[0m\u001b[1;3;38;5;51m11\u001b[0m\u001b[1;3;38;5;51m-25T\u001b[0m\u001b[1;3;38;5;51m07:32:11\u001b[0m\u001b[1;3;38;5;51m.\u001b[0m\u001b[1;3;38;5;51m704931\u001b[0m\n",
       "\u001b[1;3;4;38;5;51mChat Room\u001b[0m\u001b[1;3;38;5;51m --> \u001b[0m\u001b[1;3;4;38;5;51mLisa\u001b[0m\u001b[1;3;38;5;51m: \u001b[0m\u001b[1;3;38;5;51m[\u001b[0m\u001b[1;3;38;5;51mSOCIAL\u001b[0m\u001b[1;3;38;5;51m]\u001b[0m\u001b[1;3;38;5;51m \u001b[0m\n",
       "\u001b[1;3;38;5;51m               > Oscar was successfully reached out, and is now available for interaction.\u001b[0m\n",
       "\u001b[1;3;38;5;51m>>>>>>>>> Date and time of events: \u001b[0m\u001b[1;3;38;5;51m2024\u001b[0m\u001b[1;3;38;5;51m-\u001b[0m\u001b[1;3;38;5;51m11\u001b[0m\u001b[1;3;38;5;51m-25T\u001b[0m\u001b[1;3;38;5;51m07:32:11\u001b[0m\u001b[1;3;38;5;51m.\u001b[0m\u001b[1;3;38;5;51m704931\u001b[0m\n",
       "\u001b[1;3;4;38;5;51mOscar\u001b[0m\u001b[1;3;38;5;51m --> \u001b[0m\u001b[1;3;4;38;5;51mLisa\u001b[0m\u001b[1;3;38;5;51m: \u001b[0m\u001b[1;3;38;5;51m[\u001b[0m\u001b[1;3;38;5;51mCONVERSATION\u001b[0m\u001b[1;3;38;5;51m]\u001b[0m\u001b[1;3;38;5;51m \u001b[0m\n",
       "\u001b[1;3;38;5;51m           > Hi Lisa! I'm an architect at Awesome Inc. I work on creating standard designs for\u001b[0m\n",
       "\u001b[1;3;38;5;51m           > apartment buildings, making sure they are functional and aesthetically pleasing. I also\u001b[0m\n",
       "\u001b[1;3;38;5;51m           > have a keen interest in modernist architecture and sustainable practices. What about\u001b[0m\n",
       "\u001b[1;3;38;5;51m           > you? What do you do?\u001b[0m\n",
       "\u001b[1;3;38;5;51m>>>>>>>>> Date and time of events: \u001b[0m\u001b[1;3;38;5;51m2024\u001b[0m\u001b[1;3;38;5;51m-\u001b[0m\u001b[1;3;38;5;51m11\u001b[0m\u001b[1;3;38;5;51m-25T\u001b[0m\u001b[1;3;38;5;51m07:32:11\u001b[0m\u001b[1;3;38;5;51m.\u001b[0m\u001b[1;3;38;5;51m704931\u001b[0m\n",
       "\u001b[1;3;4;38;5;40mLisa\u001b[0m\u001b[1;3;38;5;40m acts: \u001b[0m\u001b[1;3;38;5;40m[\u001b[0m\u001b[1;3;38;5;40mTALK\u001b[0m\u001b[1;3;38;5;40m]\u001b[0m\u001b[1;3;38;5;40m \u001b[0m\n",
       "\u001b[1;3;38;5;40m          > That's really interesting, Oscar! I'm a data scientist at Microsoft, working on the M365\u001b[0m\n",
       "\u001b[1;3;38;5;40m          > Search team. I analyze user behavior and feedback data to improve search results. I also\u001b[0m\n",
       "\u001b[1;3;38;5;40m          > build machine learning models for various search scenarios. I'm really passionate about\u001b[0m\n",
       "\u001b[1;3;38;5;40m          > artificial intelligence and user experience. What inspired you to become an architect?\u001b[0m\n",
       "\u001b[1;3;38;5;51m>>>>>>>>> Date and time of events: \u001b[0m\u001b[1;3;38;5;51m2024\u001b[0m\u001b[1;3;38;5;51m-\u001b[0m\u001b[1;3;38;5;51m11\u001b[0m\u001b[1;3;38;5;51m-25T\u001b[0m\u001b[1;3;38;5;51m07:32:11\u001b[0m\u001b[1;3;38;5;51m.\u001b[0m\u001b[1;3;38;5;51m704931\u001b[0m\n",
       "\u001b[1;3;4;38;5;252mLisa\u001b[0m\u001b[1;3;38;5;252m acts: \u001b[0m\u001b[1;3;38;5;252m[\u001b[0m\u001b[1;3;38;5;252mDONE\u001b[0m\u001b[1;3;38;5;252m]\u001b[0m\u001b[1;3;38;5;252m \u001b[0m\n",
       "\n",
       "\u001b[1;3;38;5;51m>>>>>>>>> Date and time of events: \u001b[0m\u001b[1;3;38;5;51m2024\u001b[0m\u001b[1;3;38;5;51m-\u001b[0m\u001b[1;3;38;5;51m11\u001b[0m\u001b[1;3;38;5;51m-25T\u001b[0m\u001b[1;3;38;5;51m07:32:11\u001b[0m\u001b[1;3;38;5;51m.\u001b[0m\u001b[1;3;38;5;51m704931\u001b[0m\n",
       "\u001b[1;3;4;38;5;51mOscar\u001b[0m\u001b[1;3;38;5;51m --> \u001b[0m\u001b[1;3;4;38;5;51mLisa\u001b[0m\u001b[1;3;38;5;51m: \u001b[0m\u001b[1;3;38;5;51m[\u001b[0m\u001b[1;3;38;5;51mCONVERSATION\u001b[0m\u001b[1;3;38;5;51m]\u001b[0m\u001b[1;3;38;5;51m \u001b[0m\n",
       "\u001b[1;3;38;5;51m           > That's great to hear, Lisa! I became an architect because I've always been passionate\u001b[0m\n",
       "\u001b[1;3;38;5;51m           > about design and creating spaces that improve people's lives. I love the idea of\u001b[0m\n",
       "\u001b[1;3;38;5;51m           > blending functionality with aesthetics. It’s rewarding to see how architecture can\u001b[0m\n",
       "\u001b[1;3;38;5;51m           > shape experiences. What do you enjoy most about your work in data science?\u001b[0m\n",
       "\u001b[1;3;38;5;51m>>>>>>>>> Date and time of events: \u001b[0m\u001b[1;3;38;5;51m2024\u001b[0m\u001b[1;3;38;5;51m-\u001b[0m\u001b[1;3;38;5;51m11\u001b[0m\u001b[1;3;38;5;51m-25T\u001b[0m\u001b[1;3;38;5;51m07:32:11\u001b[0m\u001b[1;3;38;5;51m.\u001b[0m\u001b[1;3;38;5;51m704931\u001b[0m\n",
       "\u001b[1;3;4;38;5;40mLisa\u001b[0m\u001b[1;3;38;5;40m acts: \u001b[0m\u001b[1;3;38;5;40m[\u001b[0m\u001b[1;3;38;5;40mTALK\u001b[0m\u001b[1;3;38;5;40m]\u001b[0m\u001b[1;3;38;5;40m \u001b[0m\n",
       "\u001b[1;3;38;5;40m          > I really enjoy the problem-solving aspect of my work. Analyzing data to find patterns\u001b[0m\n",
       "\u001b[1;3;38;5;40m          > and insights is fascinating, and I love building models that can help improve user\u001b[0m\n",
       "\u001b[1;3;38;5;40m          > experiences. It's rewarding to see how my work can make a difference in how people\u001b[0m\n",
       "\u001b[1;3;38;5;40m          > interact with technology. Do you have any favorite projects you've worked on?\u001b[0m\n",
       "\u001b[1;3;38;5;51m>>>>>>>>> Date and time of events: \u001b[0m\u001b[1;3;38;5;51m2024\u001b[0m\u001b[1;3;38;5;51m-\u001b[0m\u001b[1;3;38;5;51m11\u001b[0m\u001b[1;3;38;5;51m-25T\u001b[0m\u001b[1;3;38;5;51m07:32:11\u001b[0m\u001b[1;3;38;5;51m.\u001b[0m\u001b[1;3;38;5;51m704931\u001b[0m\n",
       "\u001b[1;3;4;38;5;252mLisa\u001b[0m\u001b[1;3;38;5;252m acts: \u001b[0m\u001b[1;3;38;5;252m[\u001b[0m\u001b[1;3;38;5;252mDONE\u001b[0m\u001b[1;3;38;5;252m]\u001b[0m\u001b[1;3;38;5;252m \u001b[0m\n",
       "\n",
       "\u001b[1;3;38;5;51m>>>>>>>>> Date and time of events: \u001b[0m\u001b[1;3;38;5;51m2024\u001b[0m\u001b[1;3;38;5;51m-\u001b[0m\u001b[1;3;38;5;51m11\u001b[0m\u001b[1;3;38;5;51m-25T\u001b[0m\u001b[1;3;38;5;51m07:32:11\u001b[0m\u001b[1;3;38;5;51m.\u001b[0m\u001b[1;3;38;5;51m704931\u001b[0m\n",
       "\u001b[1;3;4;38;5;51mOscar\u001b[0m\u001b[1;3;38;5;51m --> \u001b[0m\u001b[1;3;4;38;5;51mLisa\u001b[0m\u001b[1;3;38;5;51m: \u001b[0m\u001b[1;3;38;5;51m[\u001b[0m\u001b[1;3;38;5;51mCONVERSATION\u001b[0m\u001b[1;3;38;5;51m]\u001b[0m\u001b[1;3;38;5;51m \u001b[0m\n",
       "\u001b[1;3;38;5;51m           > I have a couple of favorite projects! One that stands out is a community center I\u001b[0m\n",
       "\u001b[1;3;38;5;51m           > designed that focuses on sustainability and accessibility. It was rewarding to see how\u001b[0m\n",
       "\u001b[1;3;38;5;51m           > the space brought people together and provided resources for the community. I also\u001b[0m\n",
       "\u001b[1;3;38;5;51m           > enjoyed working on a modern apartment complex that incorporated green spaces and\u001b[0m\n",
       "\u001b[1;3;38;5;51m           > natural light, which really enhanced the living experience for residents. What about\u001b[0m\n",
       "\u001b[1;3;38;5;51m           > you? Any projects you're particularly proud of?\u001b[0m\n",
       "\u001b[1;3;38;5;51m>>>>>>>>> Date and time of events: \u001b[0m\u001b[1;3;38;5;51m2024\u001b[0m\u001b[1;3;38;5;51m-\u001b[0m\u001b[1;3;38;5;51m11\u001b[0m\u001b[1;3;38;5;51m-25T\u001b[0m\u001b[1;3;38;5;51m07:32:11\u001b[0m\u001b[1;3;38;5;51m.\u001b[0m\u001b[1;3;38;5;51m704931\u001b[0m\n",
       "\u001b[1;3;4;38;5;40mLisa\u001b[0m\u001b[1;3;38;5;40m acts: \u001b[0m\u001b[1;3;38;5;40m[\u001b[0m\u001b[1;3;38;5;40mTALK\u001b[0m\u001b[1;3;38;5;40m]\u001b[0m\u001b[1;3;38;5;40m \u001b[0m\n",
       "\u001b[1;3;38;5;40m          > Your projects sound amazing, Oscar! I'm particularly proud of a machine learning model I\u001b[0m\n",
       "\u001b[1;3;38;5;40m          > developed that improved search result relevance for our users. It was a challenging\u001b[0m\n",
       "\u001b[1;3;38;5;40m          > project due to the complexity of the data, but seeing the positive impact it had on user\u001b[0m\n",
       "\u001b[1;3;38;5;40m          > experience was incredibly rewarding. Do you have any upcoming projects you're excited\u001b[0m\n",
       "\u001b[1;3;38;5;40m          > about?\u001b[0m\n",
       "\u001b[1;3;38;5;51m>>>>>>>>> Date and time of events: \u001b[0m\u001b[1;3;38;5;51m2024\u001b[0m\u001b[1;3;38;5;51m-\u001b[0m\u001b[1;3;38;5;51m11\u001b[0m\u001b[1;3;38;5;51m-25T\u001b[0m\u001b[1;3;38;5;51m07:32:11\u001b[0m\u001b[1;3;38;5;51m.\u001b[0m\u001b[1;3;38;5;51m704931\u001b[0m\n",
       "\u001b[1;3;4;38;5;252mLisa\u001b[0m\u001b[1;3;38;5;252m acts: \u001b[0m\u001b[1;3;38;5;252m[\u001b[0m\u001b[1;3;38;5;252mDONE\u001b[0m\u001b[1;3;38;5;252m]\u001b[0m\u001b[1;3;38;5;252m \u001b[0m\n",
       "\n",
       "\u001b[1;3;38;5;51m>>>>>>>>> Date and time of events: \u001b[0m\u001b[1;3;38;5;51m2024\u001b[0m\u001b[1;3;38;5;51m-\u001b[0m\u001b[1;3;38;5;51m11\u001b[0m\u001b[1;3;38;5;51m-25T\u001b[0m\u001b[1;3;38;5;51m07:32:11\u001b[0m\u001b[1;3;38;5;51m.\u001b[0m\u001b[1;3;38;5;51m704931\u001b[0m\n",
       "\u001b[1;3;4;38;5;51mOscar\u001b[0m\u001b[1;3;38;5;51m --> \u001b[0m\u001b[1;3;4;38;5;51mLisa\u001b[0m\u001b[1;3;38;5;51m: \u001b[0m\u001b[1;3;38;5;51m[\u001b[0m\u001b[1;3;38;5;51mCONVERSATION\u001b[0m\u001b[1;3;38;5;51m]\u001b[0m\u001b[1;3;38;5;51m \u001b[0m\n",
       "\u001b[1;3;38;5;51m           > I'm really excited about a couple of upcoming projects! One of them focuses on\u001b[0m\n",
       "\u001b[1;3;38;5;51m           > designing sustainable housing that incorporates renewable energy sources and green\u001b[0m\n",
       "\u001b[1;3;38;5;51m           > materials. I'm also working on a project that aims to create more community spaces\u001b[0m\n",
       "\u001b[1;3;38;5;51m           > within urban environments, which I believe is essential for enhancing social\u001b[0m\n",
       "\u001b[1;3;38;5;51m           > interactions. What about you? Any new projects on the horizon?\u001b[0m\n"
      ]
     },
     "metadata": {},
     "output_type": "display_data"
    }
   ],
   "source": [
    "lisa.pp_current_interactions()"
   ]
  },
  {
   "cell_type": "code",
   "execution_count": 6,
   "metadata": {},
   "outputs": [
    {
     "data": {
      "text/html": [
       "<pre style=\"margin:0px;;white-space:pre;overflow-x:auto;line-height:normal;font-family:Menlo,'DejaVu Sans Mono',consolas,'Courier New',monospace\">&gt;&gt;&gt;&gt;&gt;&gt;&gt;&gt;&gt; Date and time of events: <span style=\"color: #008080; text-decoration-color: #008080; font-weight: bold\">2024</span>-<span style=\"color: #008080; text-decoration-color: #008080; font-weight: bold\">11</span>-25T<span style=\"color: #00ff00; text-decoration-color: #00ff00; font-weight: bold\">07:32:11</span>.<span style=\"color: #008080; text-decoration-color: #008080; font-weight: bold\">704931</span>\n",
       "<span style=\"font-style: italic; text-decoration: underline\">Chat Room</span><span style=\"font-style: italic\"> --&gt; </span><span style=\"font-style: italic; text-decoration: underline\">Oscar</span><span style=\"font-style: italic\">: </span><span style=\"font-weight: bold; font-style: italic\">[</span><span style=\"font-style: italic\">SOCIAL</span><span style=\"font-weight: bold; font-style: italic\">]</span><span style=\"font-style: italic\"> </span>\n",
       "<span style=\"font-style: italic\">               &gt; Lisa reached out to you, and is now available for interaction.</span>\n",
       "<span style=\"font-style: italic\">&gt;&gt;&gt;&gt;&gt;&gt;&gt;&gt;&gt; Date and time of events: </span><span style=\"color: #008080; text-decoration-color: #008080; font-weight: bold; font-style: italic\">2024</span><span style=\"font-style: italic\">-</span><span style=\"color: #008080; text-decoration-color: #008080; font-weight: bold; font-style: italic\">11</span><span style=\"font-style: italic\">-25T</span><span style=\"color: #00ff00; text-decoration-color: #00ff00; font-weight: bold; font-style: italic\">07:32:11</span><span style=\"font-style: italic\">.</span><span style=\"color: #008080; text-decoration-color: #008080; font-weight: bold; font-style: italic\">704931</span>\n",
       "<span style=\"color: #00ffff; text-decoration-color: #00ffff; font-weight: bold; font-style: italic; text-decoration: underline\">Lisa</span><span style=\"color: #00ffff; text-decoration-color: #00ffff; font-weight: bold; font-style: italic\"> --&gt; </span><span style=\"color: #00ffff; text-decoration-color: #00ffff; font-weight: bold; font-style: italic; text-decoration: underline\">Oscar</span><span style=\"color: #00ffff; text-decoration-color: #00ffff; font-weight: bold; font-style: italic\">: [CONVERSATION] </span>\n",
       "<span style=\"color: #00ffff; text-decoration-color: #00ffff; font-weight: bold; font-style: italic\">          &gt; Hi Oscar! I wanted to know more about you. What do you do?</span>\n",
       "<span style=\"color: #00ffff; text-decoration-color: #00ffff; font-weight: bold; font-style: italic\">&gt;&gt;&gt;&gt;&gt;&gt;&gt;&gt;&gt; Date and time of events: 2024-11-25T07:32:11.704931</span>\n",
       "<span style=\"color: #008000; text-decoration-color: #008000; font-weight: bold; font-style: italic; text-decoration: underline\">Oscar</span><span style=\"color: #008000; text-decoration-color: #008000; font-weight: bold; font-style: italic\"> acts: [THINK] </span>\n",
       "<span style=\"color: #008000; text-decoration-color: #008000; font-weight: bold; font-style: italic\">           &gt; Lisa is interested in learning more about me. I should share my profession and a bit</span>\n",
       "<span style=\"color: #008000; text-decoration-color: #008000; font-weight: bold; font-style: italic\">           &gt; about my interests to give her a better idea of who I am.</span>\n",
       "<span style=\"color: #00ffff; text-decoration-color: #00ffff; font-weight: bold; font-style: italic\">&gt;&gt;&gt;&gt;&gt;&gt;&gt;&gt;&gt; Date and time of events: 2024-11-25T07:32:11.704931</span>\n",
       "<span style=\"color: #00d700; text-decoration-color: #00d700; font-weight: bold; font-style: italic; text-decoration: underline\">Oscar</span><span style=\"color: #00d700; text-decoration-color: #00d700; font-weight: bold; font-style: italic\"> acts: [TALK] </span>\n",
       "<span style=\"color: #00d700; text-decoration-color: #00d700; font-weight: bold; font-style: italic\">           &gt; Hi Lisa! I'm an architect at Awesome Inc. I work on creating standard designs for</span>\n",
       "<span style=\"color: #00d700; text-decoration-color: #00d700; font-weight: bold; font-style: italic\">           &gt; apartment buildings, making sure they are functional and aesthetically pleasing. I also</span>\n",
       "<span style=\"color: #00d700; text-decoration-color: #00d700; font-weight: bold; font-style: italic\">           &gt; have a keen interest in modernist architecture and sustainable practices. What about</span>\n",
       "<span style=\"color: #00d700; text-decoration-color: #00d700; font-weight: bold; font-style: italic\">           &gt; you? What do you do?</span>\n",
       "<span style=\"color: #00ffff; text-decoration-color: #00ffff; font-weight: bold; font-style: italic\">&gt;&gt;&gt;&gt;&gt;&gt;&gt;&gt;&gt; Date and time of events: 2024-11-25T07:32:11.704931</span>\n",
       "<span style=\"color: #d0d0d0; text-decoration-color: #d0d0d0; font-weight: bold; font-style: italic; text-decoration: underline\">Oscar</span><span style=\"color: #d0d0d0; text-decoration-color: #d0d0d0; font-weight: bold; font-style: italic\"> acts: [DONE] </span>\n",
       "\n",
       "<span style=\"color: #00ffff; text-decoration-color: #00ffff; font-weight: bold; font-style: italic\">&gt;&gt;&gt;&gt;&gt;&gt;&gt;&gt;&gt; Date and time of events: 2024-11-25T07:32:11.704931</span>\n",
       "<span style=\"color: #00ffff; text-decoration-color: #00ffff; font-weight: bold; font-style: italic; text-decoration: underline\">Lisa</span><span style=\"color: #00ffff; text-decoration-color: #00ffff; font-weight: bold; font-style: italic\"> --&gt; </span><span style=\"color: #00ffff; text-decoration-color: #00ffff; font-weight: bold; font-style: italic; text-decoration: underline\">Oscar</span><span style=\"color: #00ffff; text-decoration-color: #00ffff; font-weight: bold; font-style: italic\">: [CONVERSATION] </span>\n",
       "<span style=\"color: #00ffff; text-decoration-color: #00ffff; font-weight: bold; font-style: italic\">          &gt; That's really interesting, Oscar! I'm a data scientist at Microsoft, working on the M365</span>\n",
       "<span style=\"color: #00ffff; text-decoration-color: #00ffff; font-weight: bold; font-style: italic\">          &gt; Search team. I analyze user behavior and feedback data to improve search results. I also</span>\n",
       "<span style=\"color: #00ffff; text-decoration-color: #00ffff; font-weight: bold; font-style: italic\">          &gt; build machine learning models for various search scenarios. I'm really passionate about</span>\n",
       "<span style=\"color: #00ffff; text-decoration-color: #00ffff; font-weight: bold; font-style: italic\">          &gt; artificial intelligence and user experience. What inspired you to become an architect?</span>\n",
       "<span style=\"color: #00ffff; text-decoration-color: #00ffff; font-weight: bold; font-style: italic\">&gt;&gt;&gt;&gt;&gt;&gt;&gt;&gt;&gt; Date and time of events: 2024-11-25T07:32:11.704931</span>\n",
       "<span style=\"color: #008000; text-decoration-color: #008000; font-weight: bold; font-style: italic; text-decoration: underline\">Oscar</span><span style=\"color: #008000; text-decoration-color: #008000; font-weight: bold; font-style: italic\"> acts: [THINK] </span>\n",
       "<span style=\"color: #008000; text-decoration-color: #008000; font-weight: bold; font-style: italic\">           &gt; Lisa's work as a data scientist sounds fascinating, especially her focus on user</span>\n",
       "<span style=\"color: #008000; text-decoration-color: #008000; font-weight: bold; font-style: italic\">           &gt; experience and AI. I should share what inspired me to become an architect, which is my</span>\n",
       "<span style=\"color: #008000; text-decoration-color: #008000; font-weight: bold; font-style: italic\">           &gt; passion for design and creating functional spaces that enhance people's lives.</span>\n",
       "<span style=\"color: #00ffff; text-decoration-color: #00ffff; font-weight: bold; font-style: italic\">&gt;&gt;&gt;&gt;&gt;&gt;&gt;&gt;&gt; Date and time of events: 2024-11-25T07:32:11.704931</span>\n",
       "<span style=\"color: #00d700; text-decoration-color: #00d700; font-weight: bold; font-style: italic; text-decoration: underline\">Oscar</span><span style=\"color: #00d700; text-decoration-color: #00d700; font-weight: bold; font-style: italic\"> acts: [TALK] </span>\n",
       "<span style=\"color: #00d700; text-decoration-color: #00d700; font-weight: bold; font-style: italic\">           &gt; That's great to hear, Lisa! I became an architect because I've always been passionate</span>\n",
       "<span style=\"color: #00d700; text-decoration-color: #00d700; font-weight: bold; font-style: italic\">           &gt; about design and creating spaces that improve people's lives. I love the idea of</span>\n",
       "<span style=\"color: #00d700; text-decoration-color: #00d700; font-weight: bold; font-style: italic\">           &gt; blending functionality with aesthetics. It’s rewarding to see how architecture can</span>\n",
       "<span style=\"color: #00d700; text-decoration-color: #00d700; font-weight: bold; font-style: italic\">           &gt; shape experiences. What do you enjoy most about your work in data science?</span>\n",
       "<span style=\"color: #00ffff; text-decoration-color: #00ffff; font-weight: bold; font-style: italic\">&gt;&gt;&gt;&gt;&gt;&gt;&gt;&gt;&gt; Date and time of events: 2024-11-25T07:32:11.704931</span>\n",
       "<span style=\"color: #d0d0d0; text-decoration-color: #d0d0d0; font-weight: bold; font-style: italic; text-decoration: underline\">Oscar</span><span style=\"color: #d0d0d0; text-decoration-color: #d0d0d0; font-weight: bold; font-style: italic\"> acts: [DONE] </span>\n",
       "\n",
       "<span style=\"color: #00ffff; text-decoration-color: #00ffff; font-weight: bold; font-style: italic\">&gt;&gt;&gt;&gt;&gt;&gt;&gt;&gt;&gt; Date and time of events: 2024-11-25T07:32:11.704931</span>\n",
       "<span style=\"color: #00ffff; text-decoration-color: #00ffff; font-weight: bold; font-style: italic; text-decoration: underline\">Lisa</span><span style=\"color: #00ffff; text-decoration-color: #00ffff; font-weight: bold; font-style: italic\"> --&gt; </span><span style=\"color: #00ffff; text-decoration-color: #00ffff; font-weight: bold; font-style: italic; text-decoration: underline\">Oscar</span><span style=\"color: #00ffff; text-decoration-color: #00ffff; font-weight: bold; font-style: italic\">: [CONVERSATION] </span>\n",
       "<span style=\"color: #00ffff; text-decoration-color: #00ffff; font-weight: bold; font-style: italic\">          &gt; I really enjoy the problem-solving aspect of my work. Analyzing data to find patterns</span>\n",
       "<span style=\"color: #00ffff; text-decoration-color: #00ffff; font-weight: bold; font-style: italic\">          &gt; and insights is fascinating, and I love building models that can help improve user</span>\n",
       "<span style=\"color: #00ffff; text-decoration-color: #00ffff; font-weight: bold; font-style: italic\">          &gt; experiences. It's rewarding to see how my work can make a difference in how people</span>\n",
       "<span style=\"color: #00ffff; text-decoration-color: #00ffff; font-weight: bold; font-style: italic\">          &gt; interact with technology. Do you have any favorite projects you've worked on?</span>\n",
       "<span style=\"color: #00ffff; text-decoration-color: #00ffff; font-weight: bold; font-style: italic\">&gt;&gt;&gt;&gt;&gt;&gt;&gt;&gt;&gt; Date and time of events: 2024-11-25T07:32:11.704931</span>\n",
       "<span style=\"color: #008000; text-decoration-color: #008000; font-weight: bold; font-style: italic; text-decoration: underline\">Oscar</span><span style=\"color: #008000; text-decoration-color: #008000; font-weight: bold; font-style: italic\"> acts: [THINK] </span>\n",
       "<span style=\"color: #008000; text-decoration-color: #008000; font-weight: bold; font-style: italic\">           &gt; Lisa's enthusiasm for problem-solving and improving user experiences resonates with me.</span>\n",
       "<span style=\"color: #008000; text-decoration-color: #008000; font-weight: bold; font-style: italic\">           &gt; I should share a favorite project of mine that highlights my design philosophy and how</span>\n",
       "<span style=\"color: #008000; text-decoration-color: #008000; font-weight: bold; font-style: italic\">           &gt; it positively impacted users.</span>\n",
       "<span style=\"color: #00ffff; text-decoration-color: #00ffff; font-weight: bold; font-style: italic\">&gt;&gt;&gt;&gt;&gt;&gt;&gt;&gt;&gt; Date and time of events: 2024-11-25T07:32:11.704931</span>\n",
       "<span style=\"color: #00d700; text-decoration-color: #00d700; font-weight: bold; font-style: italic; text-decoration: underline\">Oscar</span><span style=\"color: #00d700; text-decoration-color: #00d700; font-weight: bold; font-style: italic\"> acts: [TALK] </span>\n",
       "<span style=\"color: #00d700; text-decoration-color: #00d700; font-weight: bold; font-style: italic\">           &gt; I have a couple of favorite projects! One that stands out is a community center I</span>\n",
       "<span style=\"color: #00d700; text-decoration-color: #00d700; font-weight: bold; font-style: italic\">           &gt; designed that focuses on sustainability and accessibility. It was rewarding to see how</span>\n",
       "<span style=\"color: #00d700; text-decoration-color: #00d700; font-weight: bold; font-style: italic\">           &gt; the space brought people together and provided resources for the community. I also</span>\n",
       "<span style=\"color: #00d700; text-decoration-color: #00d700; font-weight: bold; font-style: italic\">           &gt; enjoyed working on a modern apartment complex that incorporated green spaces and</span>\n",
       "<span style=\"color: #00d700; text-decoration-color: #00d700; font-weight: bold; font-style: italic\">           &gt; natural light, which really enhanced the living experience for residents. What about</span>\n",
       "<span style=\"color: #00d700; text-decoration-color: #00d700; font-weight: bold; font-style: italic\">           &gt; you? Any projects you're particularly proud of?</span>\n",
       "<span style=\"color: #00ffff; text-decoration-color: #00ffff; font-weight: bold; font-style: italic\">&gt;&gt;&gt;&gt;&gt;&gt;&gt;&gt;&gt; Date and time of events: 2024-11-25T07:32:11.704931</span>\n",
       "<span style=\"color: #d0d0d0; text-decoration-color: #d0d0d0; font-weight: bold; font-style: italic; text-decoration: underline\">Oscar</span><span style=\"color: #d0d0d0; text-decoration-color: #d0d0d0; font-weight: bold; font-style: italic\"> acts: [DONE] </span>\n",
       "\n",
       "<span style=\"color: #00ffff; text-decoration-color: #00ffff; font-weight: bold; font-style: italic\">&gt;&gt;&gt;&gt;&gt;&gt;&gt;&gt;&gt; Date and time of events: 2024-11-25T07:32:11.704931</span>\n",
       "<span style=\"color: #00ffff; text-decoration-color: #00ffff; font-weight: bold; font-style: italic; text-decoration: underline\">Lisa</span><span style=\"color: #00ffff; text-decoration-color: #00ffff; font-weight: bold; font-style: italic\"> --&gt; </span><span style=\"color: #00ffff; text-decoration-color: #00ffff; font-weight: bold; font-style: italic; text-decoration: underline\">Oscar</span><span style=\"color: #00ffff; text-decoration-color: #00ffff; font-weight: bold; font-style: italic\">: [CONVERSATION] </span>\n",
       "<span style=\"color: #00ffff; text-decoration-color: #00ffff; font-weight: bold; font-style: italic\">          &gt; Your projects sound amazing, Oscar! I'm particularly proud of a machine learning model I</span>\n",
       "<span style=\"color: #00ffff; text-decoration-color: #00ffff; font-weight: bold; font-style: italic\">          &gt; developed that improved search result relevance for our users. It was a challenging</span>\n",
       "<span style=\"color: #00ffff; text-decoration-color: #00ffff; font-weight: bold; font-style: italic\">          &gt; project due to the complexity of the data, but seeing the positive impact it had on user</span>\n",
       "<span style=\"color: #00ffff; text-decoration-color: #00ffff; font-weight: bold; font-style: italic\">          &gt; experience was incredibly rewarding. Do you have any upcoming projects you're excited</span>\n",
       "<span style=\"color: #00ffff; text-decoration-color: #00ffff; font-weight: bold; font-style: italic\">          &gt; about?</span>\n",
       "<span style=\"color: #00ffff; text-decoration-color: #00ffff; font-weight: bold; font-style: italic\">&gt;&gt;&gt;&gt;&gt;&gt;&gt;&gt;&gt; Date and time of events: 2024-11-25T07:32:11.704931</span>\n",
       "<span style=\"color: #008000; text-decoration-color: #008000; font-weight: bold; font-style: italic; text-decoration: underline\">Oscar</span><span style=\"color: #008000; text-decoration-color: #008000; font-weight: bold; font-style: italic\"> acts: [THINK] </span>\n",
       "<span style=\"color: #008000; text-decoration-color: #008000; font-weight: bold; font-style: italic\">           &gt; Lisa's project on improving search result relevance sounds impressive! I should mention</span>\n",
       "<span style=\"color: #008000; text-decoration-color: #008000; font-weight: bold; font-style: italic\">           &gt; my upcoming projects, particularly one that focuses on sustainable housing designs,</span>\n",
       "<span style=\"color: #008000; text-decoration-color: #008000; font-weight: bold; font-style: italic\">           &gt; which I'm really excited about.</span>\n",
       "<span style=\"color: #00ffff; text-decoration-color: #00ffff; font-weight: bold; font-style: italic\">&gt;&gt;&gt;&gt;&gt;&gt;&gt;&gt;&gt; Date and time of events: 2024-11-25T07:32:11.704931</span>\n",
       "<span style=\"color: #00d700; text-decoration-color: #00d700; font-weight: bold; font-style: italic; text-decoration: underline\">Oscar</span><span style=\"color: #00d700; text-decoration-color: #00d700; font-weight: bold; font-style: italic\"> acts: [TALK] </span>\n",
       "<span style=\"color: #00d700; text-decoration-color: #00d700; font-weight: bold; font-style: italic\">           &gt; I'm really excited about a couple of upcoming projects! One of them focuses on</span>\n",
       "<span style=\"color: #00d700; text-decoration-color: #00d700; font-weight: bold; font-style: italic\">           &gt; designing sustainable housing that incorporates renewable energy sources and green</span>\n",
       "<span style=\"color: #00d700; text-decoration-color: #00d700; font-weight: bold; font-style: italic\">           &gt; materials. I'm also working on a project that aims to create more community spaces</span>\n",
       "<span style=\"color: #00d700; text-decoration-color: #00d700; font-weight: bold; font-style: italic\">           &gt; within urban environments, which I believe is essential for enhancing social</span>\n",
       "<span style=\"color: #00d700; text-decoration-color: #00d700; font-weight: bold; font-style: italic\">           &gt; interactions. What about you? Any new projects on the horizon?</span>\n",
       "<span style=\"color: #00ffff; text-decoration-color: #00ffff; font-weight: bold; font-style: italic\">&gt;&gt;&gt;&gt;&gt;&gt;&gt;&gt;&gt; Date and time of events: 2024-11-25T07:32:11.704931</span>\n",
       "<span style=\"color: #d0d0d0; text-decoration-color: #d0d0d0; font-weight: bold; font-style: italic; text-decoration: underline\">Oscar</span><span style=\"color: #d0d0d0; text-decoration-color: #d0d0d0; font-weight: bold; font-style: italic\"> acts: [DONE] </span>\n",
       "\n",
       "</pre>\n"
      ],
      "text/plain": [
       ">>>>>>>>> Date and time of events: \u001b[1;36m2024\u001b[0m-\u001b[1;36m11\u001b[0m-25T\u001b[1;92m07:32:11\u001b[0m.\u001b[1;36m704931\u001b[0m\n",
       "\u001b[3;4mChat Room\u001b[0m\u001b[3m --> \u001b[0m\u001b[3;4mOscar\u001b[0m\u001b[3m: \u001b[0m\u001b[1;3m[\u001b[0m\u001b[3mSOCIAL\u001b[0m\u001b[1;3m]\u001b[0m\u001b[3m \u001b[0m\n",
       "\u001b[3m               > Lisa reached out to you, and is now available for interaction.\u001b[0m\n",
       "\u001b[3m>>>>>>>>> Date and time of events: \u001b[0m\u001b[1;3;36m2024\u001b[0m\u001b[3m-\u001b[0m\u001b[1;3;36m11\u001b[0m\u001b[3m-25T\u001b[0m\u001b[1;3;92m07:32:11\u001b[0m\u001b[3m.\u001b[0m\u001b[1;3;36m704931\u001b[0m\n",
       "\u001b[1;3;4;38;5;51mLisa\u001b[0m\u001b[1;3;38;5;51m --> \u001b[0m\u001b[1;3;4;38;5;51mOscar\u001b[0m\u001b[1;3;38;5;51m: \u001b[0m\u001b[1;3;38;5;51m[\u001b[0m\u001b[1;3;38;5;51mCONVERSATION\u001b[0m\u001b[1;3;38;5;51m]\u001b[0m\u001b[1;3;38;5;51m \u001b[0m\n",
       "\u001b[1;3;38;5;51m          > Hi Oscar! I wanted to know more about you. What do you do?\u001b[0m\n",
       "\u001b[1;3;38;5;51m>>>>>>>>> Date and time of events: \u001b[0m\u001b[1;3;38;5;51m2024\u001b[0m\u001b[1;3;38;5;51m-\u001b[0m\u001b[1;3;38;5;51m11\u001b[0m\u001b[1;3;38;5;51m-25T\u001b[0m\u001b[1;3;38;5;51m07:32:11\u001b[0m\u001b[1;3;38;5;51m.\u001b[0m\u001b[1;3;38;5;51m704931\u001b[0m\n",
       "\u001b[1;3;4;32mOscar\u001b[0m\u001b[1;3;32m acts: \u001b[0m\u001b[1;3;32m[\u001b[0m\u001b[1;3;32mTHINK\u001b[0m\u001b[1;3;32m]\u001b[0m\u001b[1;3;32m \u001b[0m\n",
       "\u001b[1;3;32m           > Lisa is interested in learning more about me. I should share my profession and a bit\u001b[0m\n",
       "\u001b[1;3;32m           > about my interests to give her a better idea of who I am.\u001b[0m\n",
       "\u001b[1;3;38;5;51m>>>>>>>>> Date and time of events: \u001b[0m\u001b[1;3;38;5;51m2024\u001b[0m\u001b[1;3;38;5;51m-\u001b[0m\u001b[1;3;38;5;51m11\u001b[0m\u001b[1;3;38;5;51m-25T\u001b[0m\u001b[1;3;38;5;51m07:32:11\u001b[0m\u001b[1;3;38;5;51m.\u001b[0m\u001b[1;3;38;5;51m704931\u001b[0m\n",
       "\u001b[1;3;4;38;5;40mOscar\u001b[0m\u001b[1;3;38;5;40m acts: \u001b[0m\u001b[1;3;38;5;40m[\u001b[0m\u001b[1;3;38;5;40mTALK\u001b[0m\u001b[1;3;38;5;40m]\u001b[0m\u001b[1;3;38;5;40m \u001b[0m\n",
       "\u001b[1;3;38;5;40m           > Hi Lisa! I'm an architect at Awesome Inc. I work on creating standard designs for\u001b[0m\n",
       "\u001b[1;3;38;5;40m           > apartment buildings, making sure they are functional and aesthetically pleasing. I also\u001b[0m\n",
       "\u001b[1;3;38;5;40m           > have a keen interest in modernist architecture and sustainable practices. What about\u001b[0m\n",
       "\u001b[1;3;38;5;40m           > you? What do you do?\u001b[0m\n",
       "\u001b[1;3;38;5;51m>>>>>>>>> Date and time of events: \u001b[0m\u001b[1;3;38;5;51m2024\u001b[0m\u001b[1;3;38;5;51m-\u001b[0m\u001b[1;3;38;5;51m11\u001b[0m\u001b[1;3;38;5;51m-25T\u001b[0m\u001b[1;3;38;5;51m07:32:11\u001b[0m\u001b[1;3;38;5;51m.\u001b[0m\u001b[1;3;38;5;51m704931\u001b[0m\n",
       "\u001b[1;3;4;38;5;252mOscar\u001b[0m\u001b[1;3;38;5;252m acts: \u001b[0m\u001b[1;3;38;5;252m[\u001b[0m\u001b[1;3;38;5;252mDONE\u001b[0m\u001b[1;3;38;5;252m]\u001b[0m\u001b[1;3;38;5;252m \u001b[0m\n",
       "\n",
       "\u001b[1;3;38;5;51m>>>>>>>>> Date and time of events: \u001b[0m\u001b[1;3;38;5;51m2024\u001b[0m\u001b[1;3;38;5;51m-\u001b[0m\u001b[1;3;38;5;51m11\u001b[0m\u001b[1;3;38;5;51m-25T\u001b[0m\u001b[1;3;38;5;51m07:32:11\u001b[0m\u001b[1;3;38;5;51m.\u001b[0m\u001b[1;3;38;5;51m704931\u001b[0m\n",
       "\u001b[1;3;4;38;5;51mLisa\u001b[0m\u001b[1;3;38;5;51m --> \u001b[0m\u001b[1;3;4;38;5;51mOscar\u001b[0m\u001b[1;3;38;5;51m: \u001b[0m\u001b[1;3;38;5;51m[\u001b[0m\u001b[1;3;38;5;51mCONVERSATION\u001b[0m\u001b[1;3;38;5;51m]\u001b[0m\u001b[1;3;38;5;51m \u001b[0m\n",
       "\u001b[1;3;38;5;51m          > That's really interesting, Oscar! I'm a data scientist at Microsoft, working on the M365\u001b[0m\n",
       "\u001b[1;3;38;5;51m          > Search team. I analyze user behavior and feedback data to improve search results. I also\u001b[0m\n",
       "\u001b[1;3;38;5;51m          > build machine learning models for various search scenarios. I'm really passionate about\u001b[0m\n",
       "\u001b[1;3;38;5;51m          > artificial intelligence and user experience. What inspired you to become an architect?\u001b[0m\n",
       "\u001b[1;3;38;5;51m>>>>>>>>> Date and time of events: \u001b[0m\u001b[1;3;38;5;51m2024\u001b[0m\u001b[1;3;38;5;51m-\u001b[0m\u001b[1;3;38;5;51m11\u001b[0m\u001b[1;3;38;5;51m-25T\u001b[0m\u001b[1;3;38;5;51m07:32:11\u001b[0m\u001b[1;3;38;5;51m.\u001b[0m\u001b[1;3;38;5;51m704931\u001b[0m\n",
       "\u001b[1;3;4;32mOscar\u001b[0m\u001b[1;3;32m acts: \u001b[0m\u001b[1;3;32m[\u001b[0m\u001b[1;3;32mTHINK\u001b[0m\u001b[1;3;32m]\u001b[0m\u001b[1;3;32m \u001b[0m\n",
       "\u001b[1;3;32m           > Lisa's work as a data scientist sounds fascinating, especially her focus on user\u001b[0m\n",
       "\u001b[1;3;32m           > experience and AI. I should share what inspired me to become an architect, which is my\u001b[0m\n",
       "\u001b[1;3;32m           > passion for design and creating functional spaces that enhance people's lives.\u001b[0m\n",
       "\u001b[1;3;38;5;51m>>>>>>>>> Date and time of events: \u001b[0m\u001b[1;3;38;5;51m2024\u001b[0m\u001b[1;3;38;5;51m-\u001b[0m\u001b[1;3;38;5;51m11\u001b[0m\u001b[1;3;38;5;51m-25T\u001b[0m\u001b[1;3;38;5;51m07:32:11\u001b[0m\u001b[1;3;38;5;51m.\u001b[0m\u001b[1;3;38;5;51m704931\u001b[0m\n",
       "\u001b[1;3;4;38;5;40mOscar\u001b[0m\u001b[1;3;38;5;40m acts: \u001b[0m\u001b[1;3;38;5;40m[\u001b[0m\u001b[1;3;38;5;40mTALK\u001b[0m\u001b[1;3;38;5;40m]\u001b[0m\u001b[1;3;38;5;40m \u001b[0m\n",
       "\u001b[1;3;38;5;40m           > That's great to hear, Lisa! I became an architect because I've always been passionate\u001b[0m\n",
       "\u001b[1;3;38;5;40m           > about design and creating spaces that improve people's lives. I love the idea of\u001b[0m\n",
       "\u001b[1;3;38;5;40m           > blending functionality with aesthetics. It’s rewarding to see how architecture can\u001b[0m\n",
       "\u001b[1;3;38;5;40m           > shape experiences. What do you enjoy most about your work in data science?\u001b[0m\n",
       "\u001b[1;3;38;5;51m>>>>>>>>> Date and time of events: \u001b[0m\u001b[1;3;38;5;51m2024\u001b[0m\u001b[1;3;38;5;51m-\u001b[0m\u001b[1;3;38;5;51m11\u001b[0m\u001b[1;3;38;5;51m-25T\u001b[0m\u001b[1;3;38;5;51m07:32:11\u001b[0m\u001b[1;3;38;5;51m.\u001b[0m\u001b[1;3;38;5;51m704931\u001b[0m\n",
       "\u001b[1;3;4;38;5;252mOscar\u001b[0m\u001b[1;3;38;5;252m acts: \u001b[0m\u001b[1;3;38;5;252m[\u001b[0m\u001b[1;3;38;5;252mDONE\u001b[0m\u001b[1;3;38;5;252m]\u001b[0m\u001b[1;3;38;5;252m \u001b[0m\n",
       "\n",
       "\u001b[1;3;38;5;51m>>>>>>>>> Date and time of events: \u001b[0m\u001b[1;3;38;5;51m2024\u001b[0m\u001b[1;3;38;5;51m-\u001b[0m\u001b[1;3;38;5;51m11\u001b[0m\u001b[1;3;38;5;51m-25T\u001b[0m\u001b[1;3;38;5;51m07:32:11\u001b[0m\u001b[1;3;38;5;51m.\u001b[0m\u001b[1;3;38;5;51m704931\u001b[0m\n",
       "\u001b[1;3;4;38;5;51mLisa\u001b[0m\u001b[1;3;38;5;51m --> \u001b[0m\u001b[1;3;4;38;5;51mOscar\u001b[0m\u001b[1;3;38;5;51m: \u001b[0m\u001b[1;3;38;5;51m[\u001b[0m\u001b[1;3;38;5;51mCONVERSATION\u001b[0m\u001b[1;3;38;5;51m]\u001b[0m\u001b[1;3;38;5;51m \u001b[0m\n",
       "\u001b[1;3;38;5;51m          > I really enjoy the problem-solving aspect of my work. Analyzing data to find patterns\u001b[0m\n",
       "\u001b[1;3;38;5;51m          > and insights is fascinating, and I love building models that can help improve user\u001b[0m\n",
       "\u001b[1;3;38;5;51m          > experiences. It's rewarding to see how my work can make a difference in how people\u001b[0m\n",
       "\u001b[1;3;38;5;51m          > interact with technology. Do you have any favorite projects you've worked on?\u001b[0m\n",
       "\u001b[1;3;38;5;51m>>>>>>>>> Date and time of events: \u001b[0m\u001b[1;3;38;5;51m2024\u001b[0m\u001b[1;3;38;5;51m-\u001b[0m\u001b[1;3;38;5;51m11\u001b[0m\u001b[1;3;38;5;51m-25T\u001b[0m\u001b[1;3;38;5;51m07:32:11\u001b[0m\u001b[1;3;38;5;51m.\u001b[0m\u001b[1;3;38;5;51m704931\u001b[0m\n",
       "\u001b[1;3;4;32mOscar\u001b[0m\u001b[1;3;32m acts: \u001b[0m\u001b[1;3;32m[\u001b[0m\u001b[1;3;32mTHINK\u001b[0m\u001b[1;3;32m]\u001b[0m\u001b[1;3;32m \u001b[0m\n",
       "\u001b[1;3;32m           > Lisa's enthusiasm for problem-solving and improving user experiences resonates with me.\u001b[0m\n",
       "\u001b[1;3;32m           > I should share a favorite project of mine that highlights my design philosophy and how\u001b[0m\n",
       "\u001b[1;3;32m           > it positively impacted users.\u001b[0m\n",
       "\u001b[1;3;38;5;51m>>>>>>>>> Date and time of events: \u001b[0m\u001b[1;3;38;5;51m2024\u001b[0m\u001b[1;3;38;5;51m-\u001b[0m\u001b[1;3;38;5;51m11\u001b[0m\u001b[1;3;38;5;51m-25T\u001b[0m\u001b[1;3;38;5;51m07:32:11\u001b[0m\u001b[1;3;38;5;51m.\u001b[0m\u001b[1;3;38;5;51m704931\u001b[0m\n",
       "\u001b[1;3;4;38;5;40mOscar\u001b[0m\u001b[1;3;38;5;40m acts: \u001b[0m\u001b[1;3;38;5;40m[\u001b[0m\u001b[1;3;38;5;40mTALK\u001b[0m\u001b[1;3;38;5;40m]\u001b[0m\u001b[1;3;38;5;40m \u001b[0m\n",
       "\u001b[1;3;38;5;40m           > I have a couple of favorite projects! One that stands out is a community center I\u001b[0m\n",
       "\u001b[1;3;38;5;40m           > designed that focuses on sustainability and accessibility. It was rewarding to see how\u001b[0m\n",
       "\u001b[1;3;38;5;40m           > the space brought people together and provided resources for the community. I also\u001b[0m\n",
       "\u001b[1;3;38;5;40m           > enjoyed working on a modern apartment complex that incorporated green spaces and\u001b[0m\n",
       "\u001b[1;3;38;5;40m           > natural light, which really enhanced the living experience for residents. What about\u001b[0m\n",
       "\u001b[1;3;38;5;40m           > you? Any projects you're particularly proud of?\u001b[0m\n",
       "\u001b[1;3;38;5;51m>>>>>>>>> Date and time of events: \u001b[0m\u001b[1;3;38;5;51m2024\u001b[0m\u001b[1;3;38;5;51m-\u001b[0m\u001b[1;3;38;5;51m11\u001b[0m\u001b[1;3;38;5;51m-25T\u001b[0m\u001b[1;3;38;5;51m07:32:11\u001b[0m\u001b[1;3;38;5;51m.\u001b[0m\u001b[1;3;38;5;51m704931\u001b[0m\n",
       "\u001b[1;3;4;38;5;252mOscar\u001b[0m\u001b[1;3;38;5;252m acts: \u001b[0m\u001b[1;3;38;5;252m[\u001b[0m\u001b[1;3;38;5;252mDONE\u001b[0m\u001b[1;3;38;5;252m]\u001b[0m\u001b[1;3;38;5;252m \u001b[0m\n",
       "\n",
       "\u001b[1;3;38;5;51m>>>>>>>>> Date and time of events: \u001b[0m\u001b[1;3;38;5;51m2024\u001b[0m\u001b[1;3;38;5;51m-\u001b[0m\u001b[1;3;38;5;51m11\u001b[0m\u001b[1;3;38;5;51m-25T\u001b[0m\u001b[1;3;38;5;51m07:32:11\u001b[0m\u001b[1;3;38;5;51m.\u001b[0m\u001b[1;3;38;5;51m704931\u001b[0m\n",
       "\u001b[1;3;4;38;5;51mLisa\u001b[0m\u001b[1;3;38;5;51m --> \u001b[0m\u001b[1;3;4;38;5;51mOscar\u001b[0m\u001b[1;3;38;5;51m: \u001b[0m\u001b[1;3;38;5;51m[\u001b[0m\u001b[1;3;38;5;51mCONVERSATION\u001b[0m\u001b[1;3;38;5;51m]\u001b[0m\u001b[1;3;38;5;51m \u001b[0m\n",
       "\u001b[1;3;38;5;51m          > Your projects sound amazing, Oscar! I'm particularly proud of a machine learning model I\u001b[0m\n",
       "\u001b[1;3;38;5;51m          > developed that improved search result relevance for our users. It was a challenging\u001b[0m\n",
       "\u001b[1;3;38;5;51m          > project due to the complexity of the data, but seeing the positive impact it had on user\u001b[0m\n",
       "\u001b[1;3;38;5;51m          > experience was incredibly rewarding. Do you have any upcoming projects you're excited\u001b[0m\n",
       "\u001b[1;3;38;5;51m          > about?\u001b[0m\n",
       "\u001b[1;3;38;5;51m>>>>>>>>> Date and time of events: \u001b[0m\u001b[1;3;38;5;51m2024\u001b[0m\u001b[1;3;38;5;51m-\u001b[0m\u001b[1;3;38;5;51m11\u001b[0m\u001b[1;3;38;5;51m-25T\u001b[0m\u001b[1;3;38;5;51m07:32:11\u001b[0m\u001b[1;3;38;5;51m.\u001b[0m\u001b[1;3;38;5;51m704931\u001b[0m\n",
       "\u001b[1;3;4;32mOscar\u001b[0m\u001b[1;3;32m acts: \u001b[0m\u001b[1;3;32m[\u001b[0m\u001b[1;3;32mTHINK\u001b[0m\u001b[1;3;32m]\u001b[0m\u001b[1;3;32m \u001b[0m\n",
       "\u001b[1;3;32m           > Lisa's project on improving search result relevance sounds impressive! I should mention\u001b[0m\n",
       "\u001b[1;3;32m           > my upcoming projects, particularly one that focuses on sustainable housing designs,\u001b[0m\n",
       "\u001b[1;3;32m           > which I'm really excited about.\u001b[0m\n",
       "\u001b[1;3;38;5;51m>>>>>>>>> Date and time of events: \u001b[0m\u001b[1;3;38;5;51m2024\u001b[0m\u001b[1;3;38;5;51m-\u001b[0m\u001b[1;3;38;5;51m11\u001b[0m\u001b[1;3;38;5;51m-25T\u001b[0m\u001b[1;3;38;5;51m07:32:11\u001b[0m\u001b[1;3;38;5;51m.\u001b[0m\u001b[1;3;38;5;51m704931\u001b[0m\n",
       "\u001b[1;3;4;38;5;40mOscar\u001b[0m\u001b[1;3;38;5;40m acts: \u001b[0m\u001b[1;3;38;5;40m[\u001b[0m\u001b[1;3;38;5;40mTALK\u001b[0m\u001b[1;3;38;5;40m]\u001b[0m\u001b[1;3;38;5;40m \u001b[0m\n",
       "\u001b[1;3;38;5;40m           > I'm really excited about a couple of upcoming projects! One of them focuses on\u001b[0m\n",
       "\u001b[1;3;38;5;40m           > designing sustainable housing that incorporates renewable energy sources and green\u001b[0m\n",
       "\u001b[1;3;38;5;40m           > materials. I'm also working on a project that aims to create more community spaces\u001b[0m\n",
       "\u001b[1;3;38;5;40m           > within urban environments, which I believe is essential for enhancing social\u001b[0m\n",
       "\u001b[1;3;38;5;40m           > interactions. What about you? Any new projects on the horizon?\u001b[0m\n",
       "\u001b[1;3;38;5;51m>>>>>>>>> Date and time of events: \u001b[0m\u001b[1;3;38;5;51m2024\u001b[0m\u001b[1;3;38;5;51m-\u001b[0m\u001b[1;3;38;5;51m11\u001b[0m\u001b[1;3;38;5;51m-25T\u001b[0m\u001b[1;3;38;5;51m07:32:11\u001b[0m\u001b[1;3;38;5;51m.\u001b[0m\u001b[1;3;38;5;51m704931\u001b[0m\n",
       "\u001b[1;3;4;38;5;252mOscar\u001b[0m\u001b[1;3;38;5;252m acts: \u001b[0m\u001b[1;3;38;5;252m[\u001b[0m\u001b[1;3;38;5;252mDONE\u001b[0m\u001b[1;3;38;5;252m]\u001b[0m\u001b[1;3;38;5;252m \u001b[0m\n",
       "\n"
      ]
     },
     "metadata": {},
     "output_type": "display_data"
    }
   ],
   "source": [
    "oscar.pp_current_interactions()"
   ]
  },
  {
   "cell_type": "code",
   "execution_count": null,
   "metadata": {},
   "outputs": [],
   "source": []
  }
 ],
 "metadata": {
  "kernelspec": {
   "display_name": "Python 3",
   "language": "python",
   "name": "python3"
  },
  "language_info": {
   "codemirror_mode": {
    "name": "ipython",
    "version": 3
   },
   "file_extension": ".py",
   "mimetype": "text/x-python",
   "name": "python",
   "nbconvert_exporter": "python",
   "pygments_lexer": "ipython3",
   "version": "3.10.13"
  },
  "orig_nbformat": 4
 },
 "nbformat": 4,
 "nbformat_minor": 2
}
